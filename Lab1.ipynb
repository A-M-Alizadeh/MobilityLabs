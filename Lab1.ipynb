{
 "cells": [
  {
   "cell_type": "code",
   "execution_count": 5,
   "id": "67bd13fb",
   "metadata": {},
   "outputs": [
    {
     "name": "stdout",
     "output_type": "stream",
     "text": [
      "Requirement already satisfied: pymongo in /opt/anaconda3/lib/python3.9/site-packages (4.6.0)\r\n",
      "Requirement already satisfied: dnspython<3.0.0,>=1.16.0 in /opt/anaconda3/lib/python3.9/site-packages (from pymongo) (2.4.2)\r\n"
     ]
    }
   ],
   "source": [
    "!pip install pymongo"
   ]
  },
  {
   "cell_type": "code",
   "execution_count": 32,
   "id": "d1b6dfc1",
   "metadata": {},
   "outputs": [
    {
     "name": "stdout",
     "output_type": "stream",
     "text": [
      "['Wien',\n",
      " 'Washington DC',\n",
      " 'Vancouver',\n",
      " 'Twin Cities',\n",
      " 'Toronto',\n",
      " 'Torino',\n",
      " 'Stuttgart',\n",
      " 'Seattle',\n",
      " 'San Diego',\n",
      " 'Roma',\n",
      " 'Rheinland',\n",
      " 'Portland',\n",
      " 'New York City',\n",
      " 'Munchen',\n",
      " 'Montreal',\n",
      " 'Milano',\n",
      " 'Madrid',\n",
      " 'Hamburg',\n",
      " 'Frankfurt',\n",
      " 'Firenze',\n",
      " 'Denver',\n",
      " 'Columbus',\n",
      " 'Calgary',\n",
      " 'Berlin',\n",
      " 'Austin',\n",
      " 'Amsterdam']\n",
      "26\n",
      "['Bologna', 'Catania', 'Firenze', 'Milano', 'Roma', 'Torino']\n",
      "6\n"
     ]
    }
   ],
   "source": [
    "import pymongo as pm \n",
    "import pprint \n",
    "#import MongoClient only \n",
    "client = pm.MongoClient('bigdatadb.polito.it',                     \n",
    "                        ssl=True,                     \n",
    "                        authSource = 'carsharing',                     \n",
    "                        username = 'ictts',                     \n",
    "                        password ='Ict4SM22!',                     \n",
    "                        tlsAllowInvalidCertificates=True) \n",
    "db = client['carsharing'] \n",
    "#Choose the DB to use \n",
    "Bookings_collection = db['ActiveBookings']\n",
    "Parking_collection = db['ActiveParkings']\n",
    "P_Booking_collection = db['PermanentBookings']\n",
    "P_Parking_collection = db['PermanentParkings']\n",
    "\n",
    "E_Bookings_collection = db['enjoy_ActiveBookings']\n",
    "E_Parking_collection = db['enjoy_ActiveParkings']\n",
    "EP_Booking_collection = db['enjoy_PermanentBookings']\n",
    "EP_Parking_collection = db['enjoy_PermanentParkings']\n",
    "\n",
    "# Parking_collection = db['']\n",
    "\n",
    "# count the numbers of documents in each collection\n",
    "# pprint.pprint()\n",
    "\n",
    "#distinct cities that are served ny the system\n",
    "pprint.pprint(P_Booking_collection.find().distinct(\"city\"))\n",
    "pprint.pprint(len(P_Booking_collection.find().distinct(\"city\")))\n",
    "\n",
    "pprint.pprint(EP_Booking_collection.find().distinct(\"city\"))\n",
    "pprint.pprint(len(EP_Booking_collection.find().distinct(\"city\")))\n"
   ]
  },
  {
   "cell_type": "code",
   "execution_count": 43,
   "id": "b4ccfbff",
   "metadata": {},
   "outputs": [
    {
     "name": "stdout",
     "output_type": "stream",
     "text": [
      "1481650703\n"
     ]
    }
   ],
   "source": [
    "#first document in each collection\n",
    "pprint.pprint(P_Booking_collection.find_one(sort=[(\"init_time\", 1)])['init_time'])"
   ]
  },
  {
   "cell_type": "code",
   "execution_count": 45,
   "id": "d81316dc",
   "metadata": {},
   "outputs": [
    {
     "name": "stdout",
     "output_type": "stream",
     "text": [
      "1517404383\n"
     ]
    }
   ],
   "source": [
    "#first document in each collection\n",
    "pprint.pprint(P_Booking_collection.find_one(sort=[(\"init_time\", -1)])['final_time'])"
   ]
  },
  {
   "cell_type": "code",
   "execution_count": null,
   "id": "02b572f4",
   "metadata": {},
   "outputs": [],
   "source": []
  }
 ],
 "metadata": {
  "kernelspec": {
   "display_name": "Python 3 (ipykernel)",
   "language": "python",
   "name": "python3"
  },
  "language_info": {
   "codemirror_mode": {
    "name": "ipython",
    "version": 3
   },
   "file_extension": ".py",
   "mimetype": "text/x-python",
   "name": "python",
   "nbconvert_exporter": "python",
   "pygments_lexer": "ipython3",
   "version": "3.9.13"
  }
 },
 "nbformat": 4,
 "nbformat_minor": 5
}
