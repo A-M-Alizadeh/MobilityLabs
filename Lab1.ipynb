{
 "cells": [
  {
   "cell_type": "code",
   "execution_count": 124,
   "id": "67bd13fb",
   "metadata": {},
   "outputs": [
    {
     "name": "stdout",
     "output_type": "stream",
     "text": [
      "Requirement already satisfied: pymongo in /usr/local/lib/python3.10/site-packages (4.6.0)\n",
      "Requirement already satisfied: dnspython<3.0.0,>=1.16.0 in /usr/local/lib/python3.10/site-packages (from pymongo) (2.4.2)\n",
      "\n",
      "\u001b[1m[\u001b[0m\u001b[34;49mnotice\u001b[0m\u001b[1;39;49m]\u001b[0m\u001b[39;49m A new release of pip available: \u001b[0m\u001b[31;49m22.2.2\u001b[0m\u001b[39;49m -> \u001b[0m\u001b[32;49m23.3.1\u001b[0m\n",
      "\u001b[1m[\u001b[0m\u001b[34;49mnotice\u001b[0m\u001b[1;39;49m]\u001b[0m\u001b[39;49m To update, run: \u001b[0m\u001b[32;49mpython3.10 -m pip install --upgrade pip\u001b[0m\n",
      "Note: you may need to restart the kernel to use updated packages.\n"
     ]
    }
   ],
   "source": [
    "pip install pymongo"
   ]
  },
  {
   "cell_type": "code",
   "execution_count": 125,
   "id": "d1b6dfc1",
   "metadata": {},
   "outputs": [],
   "source": [
    "import pymongo as pm \n",
    "import pprint\n",
    "#import MongoClient only \n",
    "client = pm.MongoClient('bigdatadb.polito.it',                     \n",
    "                        ssl=True,                     \n",
    "                        authSource = 'carsharing',                     \n",
    "                        username = 'ictts',                     \n",
    "                        password ='Ict4SM22!',                     \n",
    "                        tlsAllowInvalidCertificates=True) \n",
    "db = client['carsharing'] \n",
    "#Choose the DB to use \n",
    "active_booking = db['ActiveBookings']\n",
    "active_parking = db['ActiveParkings']\n",
    "permenant_booking = db['PermanentBookings']\n",
    "permenant_parking = db['PermanentParkings']\n",
    "\n",
    "enjoy_active_booking = db['enjoy_ActiveBookings']\n",
    "enjoy_active_parking = db['enjoy_ActiveParkings']\n",
    "enjoy_permenant_booking = db['enjoy_PermanentBookings']\n",
    "enjoy_permenant_parking = db['enjoy_PermanentParkings']\n",
    "\n",
    "\n"
   ]
  },
  {
   "cell_type": "markdown",
   "metadata": {},
   "source": [
    "STEP 1"
   ]
  },
  {
   "cell_type": "code",
   "execution_count": 126,
   "metadata": {},
   "outputs": [
    {
     "name": "stdout",
     "output_type": "stream",
     "text": [
      "active_booking:  8743\n",
      "active_parking:  4790\n",
      "permenant_booking:  28180508\n",
      "permenant_parking:  28312676\n",
      "enjoy_active_booking:  0\n",
      "enjoy_active_parking:  0\n",
      "enjoy_permenant_booking:  6653472\n",
      "enjoy_permenant_parking:  6689979\n"
     ]
    }
   ],
   "source": [
    "#How many documnets are present in each collection?\n",
    "print(\"active_booking: \", active_booking.count_documents({}))\n",
    "print(\"active_parking: \", active_parking.count_documents({}))\n",
    "print(\"permenant_booking: \", permenant_booking.count_documents({}))\n",
    "print(\"permenant_parking: \", permenant_parking.count_documents({}))\n",
    "print(\"enjoy_active_booking: \", enjoy_active_booking.count_documents({}))\n",
    "print(\"enjoy_active_parking: \", enjoy_active_parking.count_documents({}))\n",
    "print(\"enjoy_permenant_booking: \", enjoy_permenant_booking.count_documents({}))\n",
    "print(\"enjoy_permenant_parking: \", enjoy_permenant_parking.count_documents({}))"
   ]
  },
  {
   "cell_type": "markdown",
   "metadata": {},
   "source": [
    "Why the number of documents in permenant-parking and permenant-booking are simillar\n",
    "\n",
    "- beacuse each parking is related to a booking done previously and the chain goes on for each car in the dataset"
   ]
  },
  {
   "cell_type": "code",
   "execution_count": 127,
   "metadata": {},
   "outputs": [
    {
     "name": "stdout",
     "output_type": "stream",
     "text": [
      "24  -->  ['Amsterdam', 'Austin', 'Berlin', 'Calgary', 'Columbus', 'Denver', 'Firenze', 'Frankfurt', 'Hamburg', 'Madrid', 'Milano', 'Montreal', 'Munchen', 'New York City', 'Portland', 'Rheinland', 'Roma', 'Seattle', 'Stuttgart', 'Torino', 'Toronto', 'Vancouver', 'Washington DC', 'Wien']\n",
      "26  -->  ['Wien', 'Washington DC', 'Vancouver', 'Twin Cities', 'Toronto', 'Torino', 'Stuttgart', 'Seattle', 'San Diego', 'Roma', 'Rheinland', 'Portland', 'New York City', 'Munchen', 'Montreal', 'Milano', 'Madrid', 'Hamburg', 'Frankfurt', 'Firenze', 'Denver', 'Columbus', 'Calgary', 'Berlin', 'Austin', 'Amsterdam']\n",
      "0  -->  []\n",
      "6  -->  ['Bologna', 'Catania', 'Firenze', 'Milano', 'Roma', 'Torino']\n"
     ]
    }
   ],
   "source": [
    "#distinct cities that are served any the system\n",
    "# print(len(active_booking.find().distinct(\"city\")),active_booking.find().distinct(\"city\"))\n",
    "print( len(active_booking.find().distinct(\"city\")), ' --> ',active_booking.find().distinct(\"city\"))\n",
    "print( len(permenant_booking.find().distinct(\"city\")), ' --> ',permenant_booking.find().distinct(\"city\"))\n",
    "print( len(enjoy_active_booking.find().distinct(\"city\")), ' --> ',enjoy_active_booking.find().distinct(\"city\"))\n",
    "print( len(enjoy_permenant_booking.find().distinct(\"city\")), ' --> ',enjoy_permenant_booking.find().distinct(\"city\"))"
   ]
  },
  {
   "cell_type": "code",
   "execution_count": 128,
   "metadata": {},
   "outputs": [
    {
     "name": "stdout",
     "output_type": "stream",
     "text": [
      "active_booking Cols dict_keys(['_id', 'init_fuel', 'city', 'walking', 'vendor', 'driving', 'final_time', 'plate', 'engineType', 'init_time', 'vin', 'smartPhoneRequired', 'interior', 'final_fuel', 'exterior', 'init_date', 'final_date', 'init_address', 'final_address', 'origin_destination', 'public_transport'])\n",
      "activeParking Cols dict_keys(['_id', 'plate', 'vendor', 'final_time', 'loc', 'init_time', 'vin', 'smartPhoneRequired', 'interior', 'exterior', 'address', 'init_date', 'final_date', 'city', 'fuel', 'engineType'])\n",
      "permenant_booking dict_keys(['_id', 'init_fuel', 'city', 'walking', 'vendor', 'driving', 'final_time', 'plate', 'engineType', 'init_time', 'vin', 'smartPhoneRequired', 'interior', 'final_fuel', 'exterior', 'init_date', 'final_date', 'init_address', 'final_address', 'origin_destination', 'public_transport'])\n",
      "permenant_parking Cols dict_keys(['_id', 'plate', 'vendor', 'final_time', 'loc', 'init_time', 'vin', 'smartPhoneRequired', 'interior', 'exterior', 'address', 'init_date', 'final_date', 'city', 'fuel', 'engineType'])\n",
      "enjoy_permenant_booking Cols dict_keys(['_id', 'init_fuel', 'virtual_rental_type_id', 'walking', 'final_time', 'final_fuel', 'init_date', 'final_date', 'final_address', 'city', 'driving', 'carModelData', 'plate', 'vendor', 'car_category_id', 'init_time', 'car_category_type_id', 'car_name', 'onClick_disabled', 'origin_destination', 'init_address', 'virtual_rental_id', 'public_transport'])\n",
      "enjoy_permenant_parking Cols dict_keys(['_id', 'city', 'vendor', 'final_time', 'plate', 'car_category_id', 'init_time', 'car_category_type_id', 'virtual_rental_type_id', 'carModelData', 'car_name', 'init_date', 'onClick_disabled', 'virtual_rental_id', 'fuel', 'final_date', 'loc', 'address'])\n"
     ]
    }
   ],
   "source": [
    "# get columns name for each collection\n",
    "print('active_booking Cols',active_booking.find_one().keys())\n",
    "print('activeParking Cols',active_parking.find_one().keys())\n",
    "print('permenant_booking',permenant_booking.find_one().keys())\n",
    "print('permenant_parking Cols',permenant_parking.find_one().keys())\n",
    "\n",
    "# the first two have no data and columns\n",
    "# print('enjoy_active_booking Cols',enjoy_active_booking.find_one().keys())\n",
    "# print('enjoy_active_parking Cols',enjoy_active_parking.find_one().keys())\n",
    "print('enjoy_permenant_booking Cols',enjoy_permenant_booking.find_one().keys())\n",
    "print('enjoy_permenant_parking Cols',enjoy_permenant_parking.find_one().keys())"
   ]
  },
  {
   "cell_type": "code",
   "execution_count": 143,
   "metadata": {},
   "outputs": [
    {
     "name": "stdout",
     "output_type": "stream",
     "text": [
      "collection:  PermanentBookings\n",
      "start:  2016-12-13 18:38:23\n",
      "end:  2018-01-31 14:13:03\n",
      "collection:  enjoy_PermanentBookings\n",
      "start:  2017-05-05 17:06:21\n",
      "end:  2019-06-10 19:20:35\n"
     ]
    }
   ],
   "source": [
    "from datetime import datetime\n",
    "collections = [permenant_booking,enjoy_permenant_booking]\n",
    "for collection in collections:\n",
    "    print('collection: ',collection.name)\n",
    "    print('start: ',datetime.fromtimestamp(list(collection.find().sort([(\"init_time\",1)]).limit(1))[0]['init_time']).strftime('%Y-%m-%d %H:%M:%S'))\n",
    "    print('end: ',datetime.fromtimestamp(list(collection.find().sort([(\"final_time\",-1)]).limit(1))[0]['final_time']).strftime('%Y-%m-%d %H:%M:%S'))"
   ]
  },
  {
   "cell_type": "code",
   "execution_count": 153,
   "metadata": {},
   "outputs": [
    {
     "name": "stdout",
     "output_type": "stream",
     "text": [
      "collection:  PermanentBookings\n",
      "city:  Stuttgart  --> init_time:  2016-12-13 18:38:23  ------- init_date:  2016-12-13 18:38:23\n",
      "collection:  enjoy_PermanentBookings\n",
      "city:  Catania  --> init_time:  2017-05-05 17:06:21  ------- init_date:  2017-05-05 17:06:21\n"
     ]
    }
   ],
   "source": [
    "from datetime import datetime\n",
    "collections = [permenant_booking,enjoy_permenant_booking]\n",
    "for collection in collections:\n",
    "    print('collection: ',collection.name)\n",
    "    item = list(collection.find().sort([(\"init_time\",1)]).limit(1))[0]\n",
    "    print('city: ', item['city'],' --> init_time: ',datetime.fromtimestamp(item['init_time']).strftime('%Y-%m-%d %H:%M:%S'), ' ------- init_date: ', item['init_date'])"
   ]
  },
  {
   "cell_type": "markdown",
   "metadata": {},
   "source": [
    "- UNIX timestamp represents how much seconds past from unix-time epoch in GMT+0\n",
    "- init_time is in unix timestamp which is GMT\n",
    "- init_date in human readable date which is converted to local time of the city"
   ]
  },
  {
   "cell_type": "code",
   "execution_count": 173,
   "metadata": {},
   "outputs": [
    {
     "name": "stdout",
     "output_type": "stream",
     "text": [
      "Torino-enjoy :  1901 1900\n",
      "Seattle :  1475 1473\n",
      "Stuttgart :  539 539\n"
     ]
    }
   ],
   "source": [
    "#Seattle\n",
    "#select number of cars in the city of Seattle\n",
    "\n",
    "print('Torino-enjoy : ',len(enjoy_permenant_parking.find({'city':'Torino'}).distinct('plate')), len(enjoy_permenant_booking.find({'city':'Torino'}).distinct('plate') ))\n",
    "print('Seattle : ',len(permenant_parking.find({'city':'Seattle'}).distinct('plate')), len(permenant_booking.find({'city':'Seattle'}).distinct('plate')))\n",
    "print('Stuttgart : ',len(permenant_parking.find({'city':'Stuttgart'}).distinct('plate')), len(permenant_booking.find({'city':'Stuttgart'}).distinct('plate')))"
   ]
  },
  {
   "cell_type": "code",
   "execution_count": null,
   "metadata": {},
   "outputs": [],
   "source": []
  },
  {
   "cell_type": "markdown",
   "metadata": {},
   "source": [
    "- no matter the collection (permenant-parking or permenant-booking) the number of unique plates which shows the number of cars are the same since every car that booked then becomes parker\n",
    "- but the fleet size might be lower fue to being removed for while, for reasons like getting repaired or ...\n",
    "- however there is a slight difference in numbers which is because of the cars are parked or not working at all !!!"
   ]
  }
 ],
 "metadata": {
  "kernelspec": {
   "display_name": "Python 3 (ipykernel)",
   "language": "python",
   "name": "python3"
  },
  "language_info": {
   "codemirror_mode": {
    "name": "ipython",
    "version": 3
   },
   "file_extension": ".py",
   "mimetype": "text/x-python",
   "name": "python",
   "nbconvert_exporter": "python",
   "pygments_lexer": "ipython3",
   "version": "3.10.8"
  }
 },
 "nbformat": 4,
 "nbformat_minor": 5
}
