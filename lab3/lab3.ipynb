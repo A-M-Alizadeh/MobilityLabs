{
 "cells": [
  {
   "cell_type": "code",
   "execution_count": 95,
   "metadata": {},
   "outputs": [],
   "source": [
    "import pandas as pd\n",
    "import numpy as np\n",
    "import matplotlib.pyplot as plt\n",
    "import matplotlib as mpl\n",
    "import pymongo as pm\n",
    "import pprint\n",
    "from enum import Enum\n",
    "from datetime import datetime, timedelta\n",
    "import geojson\n",
    "import seaborn as sb\n",
    "\n",
    "# pd.set_option(\"display.max_columns\", None)\n",
    "# mpl.rcParams[\"figure.dpi\"] = 100"
   ]
  },
  {
   "cell_type": "code",
   "execution_count": 96,
   "metadata": {},
   "outputs": [],
   "source": [
    "\n",
    "client = pm.MongoClient('bigdatadb.polito.it',                     \n",
    "                        ssl=True,                     \n",
    "                        authSource = 'carsharing',                     \n",
    "                        username = 'ictts',                     \n",
    "                        password ='Ict4SM22!',                     \n",
    "                        tlsAllowInvalidCertificates=True) \n",
    "db = client['carsharing'] \n",
    "\n",
    "#Choose the DB to use \n",
    "Ictts_enj_p_booking = db['ictts_enjoy_PermanentBookings']\n",
    "Ictts_p_booking = db['ictts_PermanentBookings']\n",
    "\n",
    "with open(\"TorinoZonescol.geojson\") as f:\n",
    "    gj = geojson.load(f)"
   ]
  },
  {
   "cell_type": "code",
   "execution_count": 97,
   "metadata": {},
   "outputs": [],
   "source": [
    "#weekday - days 2-6 -morning 7-11 - afternoon 12-18\n",
    "#weekend - days 1,7 -morning 7-12 - afternoon 13-18\n",
    "def weekday_piper(start_hour,end_hour,origin_zone,destination_zone):\n",
    "  return [\n",
    "    { \"$project\":\n",
    "     {\n",
    "       \"hour\":{\"$hour\":\"$init_date\"},\n",
    "       \"day\":{\"$dayOfWeek\":\"$init_date\"},\n",
    "       \"init_loc\":1,\n",
    "       \"final_loc\":1,\n",
    "       \"init_time\":1\n",
    "       }\n",
    "    },\n",
    "    { \"$match\": {\n",
    "      \"day\":{\"$gte\":2,\"$lte\":6},\n",
    "      \"hour\":{\"$gte\":start_hour,\"$lte\":end_hour},\n",
    "      \"init_loc\":{\"$geoWithin\":{\"$geometry\":{\"type\":\"MultiPolygon\",\"coordinates\":origin_zone}}},\n",
    "      \"final_loc\":{\"$geoWithin\":{\"$geometry\":{\"type\":\"MultiPolygon\",\"coordinates\":destination_zone}}}}\n",
    "    },\n",
    "    { \"$count\":\"tot\"}\n",
    "  ]\n",
    "\n",
    "def weekend_piper(start_hour,end_hour,origin_zone,destination_zone):\n",
    "  return [\n",
    "    { \"$project\":\n",
    "     {\n",
    "       \"hour\":{\"$hour\":\"$init_date\"},\n",
    "       \"day\":{\"$dayOfWeek\":\"$init_date\"},\n",
    "       \"init_loc\":1,\n",
    "       \"final_loc\":1,\n",
    "       \"init_time\":1\n",
    "       }\n",
    "    },\n",
    "    { \"$match\":{\n",
    "      \"day\":1 and 7,\n",
    "      \"hour\":{\"$gte\":start_hour,\"$lte\":end_hour},\n",
    "      \"init_loc\":{\"$geoWithin\":{\"$geometry\":{\"type\":\"MultiPolygon\",\"coordinates\":origin_zone}}},\n",
    "      \"final_loc\":{\"$geoWithin\":{\"$geometry\":{\"type\":\"MultiPolygon\",\"coordinates\":destination_zone}}}}},\n",
    "    {\"$count\": \"tot\"}\n",
    "  ]"
   ]
  },
  {
   "cell_type": "code",
   "execution_count": 98,
   "metadata": {},
   "outputs": [],
   "source": [
    "def extract_od_matrix(start_hour =7 , end_hour =11, pipeline=[{}]):\n",
    "  OD_matrix = [([0]*23) for i in range(23) ]\n",
    "  for i in range(23) :\n",
    "    orig_zone = gj[\"features\"][i][\"geometry\"][\"coordinates\"]\n",
    "    for j in range(23) :\n",
    "      dest_zone = gj[\"features\"][j][\"geometry\"][\"coordinates\"]\n",
    "      result = list ( Ictts_enj_p_booking.aggregate(pipeline(start_hour,end_hour,orig_zone,dest_zone)))\n",
    "      if( len(result ) > 0):\n",
    "        OD_matrix[i][j] = result[0][\"tot\"]\n",
    "      else :\n",
    "        OD_matrix[i][j] = 0\n",
    "  output_df = pd.DataFrame ( OD_matrix )\n",
    "  output_df.columns =[\"Q\"+f\"{i:03d}\" for i in range(1, 24) ]\n",
    "  output_df['index'] =[\"Q\"+f\"{i:03d}\" for i in range(1, 24) ]\n",
    "  output_df = output_df.set_index('index', drop = True ).rename_axis( None )\n",
    "  return output_df"
   ]
  },
  {
   "cell_type": "code",
   "execution_count": 99,
   "metadata": {},
   "outputs": [],
   "source": [
    "booking_OD_matrix = []\n",
    "weekday_morning = extract_od_matrix(6,12,weekday_piper)\n",
    "weekday_afternoon = extract_od_matrix(12,20,weekday_piper)\n",
    "weekend_morning = extract_od_matrix(6,12,weekend_piper)\n",
    "weekend_afternoon = extract_od_matrix(12,20,weekend_piper)\n",
    "\n",
    "booking_OD_matrix.append(weekday_morning)\n",
    "booking_OD_matrix.append(weekday_afternoon)\n",
    "booking_OD_matrix.append(weekend_morning)\n",
    "booking_OD_matrix.append(weekend_afternoon)\n",
    "\n",
    "weekday_morning.to_csv(\"weekday_morning.csv\")\n",
    "weekday_afternoon.to_csv(\"weekday_afternoon.csv\")\n",
    "weekend_morning.to_csv(\"weekend_morning.csv\")\n",
    "weekend_afternoon.to_csv(\"weekend_afternoon.csv\")"
   ]
  },
  {
   "cell_type": "code",
   "execution_count": 118,
   "metadata": {},
   "outputs": [],
   "source": [
    "# Data Extraction from IMQ dataset\n",
    "IMQ = pd.read_csv(\"spostamentiTorino.csv\")\n",
    "copyIMQ = IMQ.copy()\n",
    "IMQ_OD_matrices = []\n",
    "\n",
    "filtered_data = copyIMQ[copyIMQ['SESSO']==1]\n",
    "pivot_table1 = filtered_data.pivot_table( index ='COD_ZONA_PAR',columns='COD_ZONA_ARR',values='ID_INT',aggfunc =len ,fill_value =0)\n",
    "pivot_table1.to_csv(\"IMQ_OD_1\"+\".csv\")\n",
    "\n",
    "filtered_data = copyIMQ[copyIMQ['SESSO']==2]\n",
    "pivot_table2 = filtered_data.pivot_table( index ='COD_ZONA_PAR',columns='COD_ZONA_ARR',values='ID_INT',aggfunc =len ,fill_value =0)\n",
    "pivot_table2.to_csv(\"IMQ_OD_2\"+\".csv\")\n",
    "\n",
    "filtered_data = copyIMQ[copyIMQ['FASCIA_ETA']==1]\n",
    "pivot_table3 = filtered_data.pivot_table( index ='COD_ZONA_PAR',columns='COD_ZONA_ARR',values='ID_INT',aggfunc =len ,fill_value =0)\n",
    "pivot_table3.to_csv(\"IMQ_OD_3\"+\".csv\")\n",
    "\n",
    "filtered_data = copyIMQ[copyIMQ['FASCIA_ETA']==2]\n",
    "pivot_table4 = filtered_data.pivot_table( index ='COD_ZONA_PAR',columns='COD_ZONA_ARR',values='ID_INT',aggfunc =len ,fill_value =0)\n",
    "pivot_table4.to_csv(\"IMQ_OD_4\"+\".csv\")\n",
    "\n",
    "filtered_data = copyIMQ[copyIMQ['FASCIA_ETA']==3]\n",
    "pivot_table5 = filtered_data.pivot_table( index ='COD_ZONA_PAR',columns='COD_ZONA_ARR',values='ID_INT',aggfunc =len ,fill_value =0)\n",
    "pivot_table5.to_csv(\"IMQ_OD_5\"+\".csv\")\n",
    "\n",
    "filtered_data = copyIMQ[copyIMQ['FASCIA_ETA']==4]\n",
    "pivot_table6 = filtered_data.pivot_table( index ='COD_ZONA_PAR',columns='COD_ZONA_ARR',values='ID_INT',aggfunc =len ,fill_value =0)\n",
    "pivot_table6.to_csv(\"IMQ_OD_6\"+\".csv\")\n",
    "\n",
    "filtered_data = copyIMQ[copyIMQ['SCOPO']==1]\n",
    "pivot_table7 = filtered_data.pivot_table( index ='COD_ZONA_PAR',columns='COD_ZONA_ARR',values='ID_INT',aggfunc =len ,fill_value =0)\n",
    "pivot_table7.to_csv(\"IMQ_OD_7\"+\".csv\")\n",
    "\n",
    "filtered_data = copyIMQ[copyIMQ['SCOPO']==2]\n",
    "pivot_table8 = filtered_data.pivot_table( index ='COD_ZONA_PAR',columns='COD_ZONA_ARR',values='ID_INT',aggfunc =len ,fill_value =0)\n",
    "pivot_table8.to_csv(\"IMQ_OD_8\"+\".csv\")\n",
    "\n",
    "filtered_data = copyIMQ[copyIMQ['SCOPO']==3]\n",
    "pivot_table9 = filtered_data.pivot_table( index ='COD_ZONA_PAR',columns='COD_ZONA_ARR',values='ID_INT',aggfunc =len ,fill_value =0)\n",
    "pivot_table9.to_csv(\"IMQ_OD_9\"+\".csv\")\n",
    "\n",
    "filtered_data = copyIMQ[copyIMQ['SCOPO']==4]\n",
    "pivot_table10 = filtered_data.pivot_table( index ='COD_ZONA_PAR',columns='COD_ZONA_ARR',values='ID_INT',aggfunc =len ,fill_value =0)\n",
    "pivot_table10.to_csv(\"IMQ_OD_10\"+\".csv\")\n",
    "\n",
    "\n",
    "IMQ_OD_matrices.append(pivot_table1)\n",
    "IMQ_OD_matrices.append(pivot_table2)\n",
    "IMQ_OD_matrices.append(pivot_table3)\n",
    "IMQ_OD_matrices.append(pivot_table4)\n",
    "IMQ_OD_matrices.append(pivot_table5)\n",
    "IMQ_OD_matrices.append(pivot_table6)\n",
    "IMQ_OD_matrices.append(pivot_table7)\n",
    "IMQ_OD_matrices.append(pivot_table8)\n",
    "IMQ_OD_matrices.append(pivot_table9)\n",
    "IMQ_OD_matrices.append(pivot_table10)"
   ]
  },
  {
   "cell_type": "code",
   "execution_count": 128,
   "metadata": {},
   "outputs": [
    {
     "name": "stderr",
     "output_type": "stream",
     "text": [
      "/var/folders/r5/tmz4tmxn6s5f_cnt2d3y0pv00000gn/T/ipykernel_2235/1675071677.py:7: RuntimeWarning: invalid value encountered in divide\n",
      "  normalized_matrix2 = matrix2 / matrix2.sum( axis =1, keepdims = True )\n"
     ]
    },
    {
     "data": {
      "image/png": "[encoded data removed]",
      "text/plain": [
       "<Figure size 640x480 with 2 Axes>"
      ]
     },
     "metadata": {},
     "output_type": "display_data"
    }
   ],
   "source": [
    "import math\n",
    "# • Comparison between the OD Matrices\n",
    "def L2_distance( matrix1 , matrix2 ):\n",
    " # Ensure matrices have the same dimensions\n",
    " assert matrix1.shape == matrix2.shape , \"Matrices must have the same dimensions\"\n",
    " normalized_matrix1 = matrix1 / matrix1.sum( axis =1, keepdims = True )\n",
    " normalized_matrix2 = matrix2 / matrix2.sum( axis =1, keepdims = True )\n",
    "\n",
    " # Calculate the squared differences between corresponding cells\n",
    " squared_diff = np.square( normalized_matrix1 - normalized_matrix2 )\n",
    " # Sum the squared differences\n",
    " sum_squared_diff = np.sum( squared_diff )\n",
    " # Take the square root to obtain the L2 distance\n",
    " l2_distance = np.sqrt( sum_squared_diff )\n",
    " return l2_distance\n",
    "\n",
    "distances = [([0]* len( booking_OD_matrix )) for i in range(len( IMQ_OD_matrices ))]\n",
    "\n",
    "for i, imq in enumerate( IMQ_OD_matrices ):\n",
    "  for j, rental in enumerate( booking_OD_matrix ):\n",
    "    distance = L2_distance(imq.values , rental.values )\n",
    "    distances[i][j] = distance\n",
    "    \n",
    "#  plotting the heatmap\n",
    "hm = sb.heatmap( data =np.array( distances ), annot = True )\n",
    "#  displaying the plotted heatmap\n",
    "plt.show()"
   ]
  },
  {
   "cell_type": "code",
   "execution_count": 115,
   "metadata": {},
   "outputs": [],
   "source": [
    "# # Plotting the OD Matrices\n",
    "# def plot_matrix( od_matrix , title ):\n",
    "#  # Create meshgrid for x and y values\n",
    "#  x, y = np.meshgrid( range( od_matrix.shape[0]) , range( od_matrix.shape[1]) )\n",
    "#  # Create figure and 3D axes\n",
    "#  fig = plt.figure(dpi =300 , figsize =(12 , 12))\n",
    "#  ax = fig.add_subplot(111 , projection ='3d')\n",
    "#  # Create surface plot\n",
    "#  ax.plot_surface(x, y, od_matrix , cmap ='inferno')\n",
    "#  # Set labels and title\n",
    "#  ax.set_xlabel('Origin ')\n",
    "#  ax.set_ylabel('Destination ')\n",
    "#  ax.set_zlabel('Flow ')\n",
    "#  ax.set_title( title )\n",
    "\n",
    "#  # Show the plot\n",
    "#  plt.show()\n",
    "\n",
    "# for i, element in enumerate( booking_OD_matrix):\n",
    "#   plot_matrix( booking_OD_matrix[i].values , \" \")\n",
    "\n",
    "# for i, od_matrix in enumerate( IMQ_OD_matrices ):\n",
    "#   plot_matrix( IMQ_OD_matrices[i].values , \" \")"
   ]
  },
  {
   "cell_type": "code",
   "execution_count": 125,
   "metadata": {},
   "outputs": [
    {
     "name": "stdout",
     "output_type": "stream",
     "text": [
      "[[1.5287802253842733, 1.3322527081622706, nan, 1.4358163537561057], [1.7627333025526275, 1.56951915845248, nan, 1.640955692192335], [1.547844948255728, 1.3401328435607753, nan, 1.4279568193155283], [1.4585558368574227, 1.2696543450950912, nan, 1.360821970475798], [1.7246522451528528, 1.5247561328701393, nan, 1.602531439118853], [2.2281913135207505, 2.0523422119275017, nan, 2.1320882244108463], [1.1122211379272708, 1.1373796528930225, nan, 1.2275134007460498], [1.7218602122619349, 1.694530595412173, nan, 1.6744939873867388], [1.6014394276121329, 1.540293679076009, nan, 1.5873386235411406], [2.1219949418098585, 2.0160321867391064, nan, 2.088124754811364]]\n"
     ]
    }
   ],
   "source": [
    "print(distances)\n",
    "# plot_matrix( distances , \" \")"
   ]
  }
 ],
 "metadata": {
  "kernelspec": {
   "display_name": "Python 3",
   "language": "python",
   "name": "python3"
  },
  "language_info": {
   "codemirror_mode": {
    "name": "ipython",
    "version": 3
   },
   "file_extension": ".py",
   "mimetype": "text/x-python",
   "name": "python",
   "nbconvert_exporter": "python",
   "pygments_lexer": "ipython3",
   "version": "3.11.6"
  }
 },
 "nbformat": 4,
 "nbformat_minor": 2
}
