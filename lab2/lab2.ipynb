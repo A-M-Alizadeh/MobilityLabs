{
 "cells": [
  {
   "cell_type": "code",
   "execution_count": 183,
   "metadata": {},
   "outputs": [],
   "source": [
    "import pandas as pd\n",
    "import numpy as np\n",
    "import matplotlib.pyplot as plt\n",
    "import pymongo as pm\n",
    "import pprint\n",
    "from enum import Enum\n",
    "from datetime import datetime, timedelta\n",
    "import pytz"
   ]
  },
  {
   "cell_type": "code",
   "execution_count": 184,
   "metadata": {},
   "outputs": [],
   "source": [
    "\n",
    "client = pm.MongoClient('bigdatadb.polito.it',                     \n",
    "                        ssl=True,                     \n",
    "                        authSource = 'carsharing',                     \n",
    "                        username = 'ictts',                     \n",
    "                        password ='Ict4SM22!',                     \n",
    "                        tlsAllowInvalidCertificates=True) \n",
    "db = client['carsharing'] \n",
    "\n",
    "#Choose the DB to use \n",
    "permenant_booking = db['PermanentBookings']\n",
    "permenant_parking = db['PermanentParkings']\n",
    "enjoy_permenant_booking = db['enjoy_PermanentBookings']\n",
    "enjoy_permenant_parking = db['enjoy_PermanentParkings']\n",
    "\n",
    "#ENUM of cities\n",
    "class CITY_ENUM(Enum):\n",
    "    TO = 'Torino'\n",
    "    SEA = 'Seattle'\n",
    "    STU = 'Stuttgart'\n",
    "class CITY_TIMEZONES(Enum):\n",
    "    TO = 'Europe/Rome'\n",
    "    SEA = 'America/Los_Angeles'\n",
    "    STU = 'Europe/Berlin'\n",
    "\n",
    "def get_start_end_unix_zone(timezone):\n",
    "    start_timestamp = datetime(2018, 1, 1,0,0,0,0, pytz.timezone(timezone)).timestamp()\n",
    "    end_timestamp  = datetime(2018, 1, 31,23,59,59,0, pytz.timezone(timezone)).timestamp()\n",
    "    return start_timestamp,end_timestamp    \n",
    "\n",
    "\n",
    "#date starts from 01/01/2018 to 31/01/2018 1514761200 - 1517353200\n",
    "# start_unix_time = datetime.datetime.strptime(\"01/01/2018\", \"%d/%m/%Y\").timestamp()\n",
    "# end_unix_time = datetime.datetime.strptime(\"01/02/2018\", \"%d/%m/%Y\").timestamp()\n",
    "# start_unix_time=int('1514764800')\n",
    "# end_unix_time=int('1517439600')\n",
    "\n",
    "# dt = datetime(2018, 1, 1)\n",
    "# start_unix_time = dt.replace(tzinfo=timezone.utc).timestamp()\n",
    "# dt = datetime(2018, 1, 31)\n",
    "# end_unix_time = dt.replace(tzinfo=timezone.utc).timestamp()"
   ]
  },
  {
   "cell_type": "code",
   "execution_count": 235,
   "metadata": {},
   "outputs": [],
   "source": [
    "#pipeline for getting the data for the rentals with the filteration of the data\n",
    "#too short and too long rentals are filtered out\n",
    "#considered if car is moved\n",
    "#grouped by date and hour\n",
    "def filter_pipeline(city,start_unix_time,end_unix_time):\n",
    "    return [\n",
    "    {\n",
    "        '$match': {\n",
    "            'city': city,\n",
    "            'init_time': {\n",
    "                '$gte': start_unix_time,\n",
    "                '$lt': end_unix_time\n",
    "            },\n",
    "            'final_time': {\n",
    "                '$gte': start_unix_time,\n",
    "                '$lt': end_unix_time\n",
    "            }\n",
    "        }\n",
    "    },\n",
    "    {\n",
    "        '$project': {\n",
    "            '_id': 0,\n",
    "            'duration': {\n",
    "                '$divide': [\n",
    "                    { '$subtract': ['$final_time', '$init_time'] },\n",
    "                    60  # Divide by 60 to convert seconds to minutes\n",
    "                ]\n",
    "            },\n",
    "            'day': {'$dayOfMonth': '$init_date'},\n",
    "            'hour': {'$hour': '$init_date'},\n",
    "            'date': {\n",
    "                '$dateToString': {\n",
    "                    'format': '%Y-%m-%d',\n",
    "                    'date': '$init_date'\n",
    "                }\n",
    "            },\n",
    "            'moved': {\n",
    "                '$ne':[\n",
    "                    {\"$arrayElemAt\": [ \"$origin_destination.coordinates\", 0]},\n",
    "                    {\"$arrayElemAt\": [ \"$origin_destination.coordinates\", 1]}\n",
    "                 ]\n",
    "            }\n",
    "        }\n",
    "    },\n",
    "    {\n",
    "        '$match': {\n",
    "            'moved': True,\n",
    "            'duration':{'$gt':5, '$lt':180},\n",
    "                \n",
    "        }\n",
    "    },\n",
    "    {\n",
    "        '$group':{\n",
    "            '_id': {'day': '$day', 'hour': '$hour', 'date': '$date'},\n",
    "            'total_count': {'$sum': 1},\n",
    "        }\n",
    "    },\n",
    "    {\n",
    "        '$sort': {\n",
    "            '_id': 1,\n",
    "        }\n",
    "    },\n",
    "    # {\n",
    "    #     '$group': {\n",
    "    #         '_id': '$_id.date',\n",
    "    #         'hours': {\n",
    "    #             '$push': {\n",
    "    #                 'date': '$_id.date',\n",
    "    #                 'hour': '$_id.hour',\n",
    "    #                 'total_count': '$total_count'\n",
    "    #             }\n",
    "    #         }\n",
    "    #     }\n",
    "    # },\n",
    "    # {\n",
    "    #     '$sort': {\n",
    "    #         '_id': 1,\n",
    "    #         'hours.hour': 1\n",
    "    #     }\n",
    "    # }\n",
    "]\n"
   ]
  },
  {
   "cell_type": "code",
   "execution_count": 369,
   "metadata": {},
   "outputs": [],
   "source": [
    "TO_Data = list(enjoy_permenant_booking.aggregate(filter_pipeline(CITY_ENUM.TO.value,get_start_end_unix_zone(CITY_TIMEZONES.TO.value)[0],get_start_end_unix_zone(CITY_TIMEZONES.TO.value)[1])))\n",
    "SEA_Data = list(permenant_booking.aggregate(filter_pipeline(CITY_ENUM.SEA.value,get_start_end_unix_zone(CITY_TIMEZONES.SEA.value)[0],get_start_end_unix_zone(CITY_TIMEZONES.SEA.value)[1])))\n",
    "STU_Data = list(permenant_booking.aggregate(filter_pipeline(CITY_ENUM.STU.value,get_start_end_unix_zone(CITY_TIMEZONES.STU.value)[0],get_start_end_unix_zone(CITY_TIMEZONES.STU.value)[1])))\n",
    "cities_data_array = [(CITY_ENUM.TO.value,TO_Data),(CITY_ENUM.SEA.value,SEA_Data),(CITY_ENUM.STU.value,STU_Data)]"
   ]
  },
  {
   "cell_type": "code",
   "execution_count": 368,
   "metadata": {},
   "outputs": [
    {
     "name": "stdout",
     "output_type": "stream",
     "text": [
      "TO_Data 744\n",
      "SEA_Data 726\n",
      "STU_Data 735\n"
     ]
    }
   ],
   "source": [
    "print(\"TO_Data\",len(TO_Data))\n",
    "print(\"SEA_Data\",len(SEA_Data))\n",
    "print(\"STU_Data\",len(STU_Data))"
   ]
  },
  {
   "cell_type": "code",
   "execution_count": 458,
   "metadata": {},
   "outputs": [],
   "source": [
    "def dfModifier(city_list):\n",
    "  df = pd.DataFrame(city_list, columns =['_id', 'total_count'])\n",
    "  df['date'] = df['_id'].apply(lambda x: x['date'])\n",
    "  df['day'] = df['_id'].apply(lambda x: x['day'])\n",
    "  df['hour'] = df['_id'].apply(lambda x: x['hour'])\n",
    "  df['myIndex'] = (df['day']-1)*24 + (df['hour']+1)\n",
    "  df.drop(['_id'], axis=1, inplace=True)\n",
    "  return df\n",
    "#day | hour\n",
    "#1   | 0 -> day*24 + hour => 1*24 + 0 = 24\n",
    "#1   | 1 -> day*24 + hour => 1*24 + 1 = 25\n",
    "#1   | 2 -> day*24 + hour => 1*24 + 2 = 26\n",
    "\n",
    "#day | hour\n",
    "#0   | 1 -> day*24 + hour => 0*24 + 1 = 1\n",
    "#0   | 2 -> day*24 + hour => 0*24 + 2 = 2\n",
    "#0   | 3 -> day*24 + hour => 0*24 + 3 = 3\n",
    "\n",
    "TO_df = dfModifier(TO_Data)\n",
    "SEA_df = dfModifier(SEA_Data)\n",
    "STU_df = dfModifier(STU_Data)\n",
    "cities_df_array = [(CITY_ENUM.TO.value,TO_df),(CITY_ENUM.SEA.value,SEA_df),(CITY_ENUM.STU.value,STU_df)]\n"
   ]
  },
  {
   "cell_type": "code",
   "execution_count": 459,
   "metadata": {},
   "outputs": [
    {
     "name": "stdout",
     "output_type": "stream",
     "text": [
      "Missing values are: 0 set()\n",
      "Missing values are: 18 {736, 737, 738, 739, 740, 741, 742, 743, 726, 727, 728, 729, 730, 731, 732, 733, 734, 735}\n",
      "Missing values are: 9 {736, 737, 738, 739, 740, 741, 742, 743, 744}\n"
     ]
    }
   ],
   "source": [
    "def fillMissingValues(df:pd.DataFrame):\n",
    "  missingValues=set(np.arange(1,31*24+1)).difference(set(df['myIndex']))\n",
    "  dfMean = round(np.mean(df['total_count']))\n",
    "  print(\"Missing values are:\", len(missingValues), missingValues)\n",
    "  df2 = df\n",
    "  for value in missingValues:\n",
    "    dayOfValue = int((value-1)/24)+1\n",
    "    hourOfValue = (value-1)%24\n",
    "    new_row = pd.DataFrame({'total_count':dfMean,'date':f'2018-01-{dayOfValue:02d}','day':dayOfValue,'hour':hourOfValue,'myIndex':value}, index =[0])\n",
    "    df2 = pd.concat([new_row,df2.loc[:]]).reset_index(drop = True)\n",
    "  df2.sort_values(by=['myIndex'], inplace=True)\n",
    "  df2.set_index('myIndex', inplace=True)\n",
    "  return df2\n",
    "\n",
    "To_FilledValues = fillMissingValues(TO_df)\n",
    "SEA_FilledValues = fillMissingValues(SEA_df)\n",
    "STU_FilledValues = fillMissingValues(STU_df)\n",
    "#remember to remove this line - it has never been used !!!!!!!!!!!!!!!!!!!!!!!!!!!!!!!!!!!!! TODO\n",
    "SEA_FilledValues.at[744,'date'] = '2018-01-31'"
   ]
  },
  {
   "cell_type": "code",
   "execution_count": 472,
   "metadata": {},
   "outputs": [
    {
     "data": {
      "text/html": [
       "<div>\n",
       "<style scoped>\n",
       "    .dataframe tbody tr th:only-of-type {\n",
       "        vertical-align: middle;\n",
       "    }\n",
       "\n",
       "    .dataframe tbody tr th {\n",
       "        vertical-align: top;\n",
       "    }\n",
       "\n",
       "    .dataframe thead th {\n",
       "        text-align: right;\n",
       "    }\n",
       "</style>\n",
       "<table border=\"1\" class=\"dataframe\">\n",
       "  <thead>\n",
       "    <tr style=\"text-align: right;\">\n",
       "      <th></th>\n",
       "      <th>total_count</th>\n",
       "      <th>date</th>\n",
       "      <th>day</th>\n",
       "      <th>hour</th>\n",
       "    </tr>\n",
       "    <tr>\n",
       "      <th>myIndex</th>\n",
       "      <th></th>\n",
       "      <th></th>\n",
       "      <th></th>\n",
       "      <th></th>\n",
       "    </tr>\n",
       "  </thead>\n",
       "  <tbody>\n",
       "    <tr>\n",
       "      <th>740</th>\n",
       "      <td>129</td>\n",
       "      <td>2018-01-31</td>\n",
       "      <td>31</td>\n",
       "      <td>19</td>\n",
       "    </tr>\n",
       "    <tr>\n",
       "      <th>741</th>\n",
       "      <td>112</td>\n",
       "      <td>2018-01-31</td>\n",
       "      <td>31</td>\n",
       "      <td>20</td>\n",
       "    </tr>\n",
       "    <tr>\n",
       "      <th>742</th>\n",
       "      <td>98</td>\n",
       "      <td>2018-01-31</td>\n",
       "      <td>31</td>\n",
       "      <td>21</td>\n",
       "    </tr>\n",
       "    <tr>\n",
       "      <th>743</th>\n",
       "      <td>105</td>\n",
       "      <td>2018-01-31</td>\n",
       "      <td>31</td>\n",
       "      <td>22</td>\n",
       "    </tr>\n",
       "    <tr>\n",
       "      <th>744</th>\n",
       "      <td>69</td>\n",
       "      <td>2018-01-31</td>\n",
       "      <td>31</td>\n",
       "      <td>23</td>\n",
       "    </tr>\n",
       "  </tbody>\n",
       "</table>\n",
       "</div>"
      ],
      "text/plain": [
       "         total_count        date  day  hour\n",
       "myIndex                                    \n",
       "740              129  2018-01-31   31    19\n",
       "741              112  2018-01-31   31    20\n",
       "742               98  2018-01-31   31    21\n",
       "743              105  2018-01-31   31    22\n",
       "744               69  2018-01-31   31    23"
      ]
     },
     "execution_count": 472,
     "metadata": {},
     "output_type": "execute_result"
    }
   ],
   "source": [
    "To_FilledValues.tail(5)"
   ]
  },
  {
   "cell_type": "code",
   "execution_count": null,
   "metadata": {},
   "outputs": [],
   "source": []
  },
  {
   "cell_type": "code",
   "execution_count": null,
   "metadata": {},
   "outputs": [],
   "source": []
  },
  {
   "cell_type": "code",
   "execution_count": null,
   "metadata": {},
   "outputs": [],
   "source": []
  },
  {
   "cell_type": "code",
   "execution_count": null,
   "metadata": {},
   "outputs": [],
   "source": []
  },
  {
   "cell_type": "code",
   "execution_count": null,
   "metadata": {},
   "outputs": [],
   "source": []
  },
  {
   "cell_type": "code",
   "execution_count": null,
   "metadata": {},
   "outputs": [],
   "source": []
  },
  {
   "cell_type": "code",
   "execution_count": null,
   "metadata": {},
   "outputs": [],
   "source": [
    "#this part is for the ploting of the data - using the previous data that we got from the old pipeline"
   ]
  },
  {
   "cell_type": "code",
   "execution_count": 177,
   "metadata": {},
   "outputs": [],
   "source": [
    "# def flatten(city_booking_list):\n",
    "#     data_flat_list = []\n",
    "#     for entry in city_booking_list:\n",
    "#         date = entry['_id']\n",
    "#         for hour_data in entry['hours']:\n",
    "#             data_flat_list.append({\n",
    "#                 'date': date,\n",
    "#                 'hour': hour_data['hour'],\n",
    "#                 'total_count': hour_data['total_count']\n",
    "#             })\n",
    "#     return data_flat_list\n",
    "\n",
    "# def map_hour_count(flattened_list):\n",
    "#     all_dates =[]\n",
    "#     all_values = []\n",
    "#     for entry in flattened_list:\n",
    "#         current_date = datetime.strptime(entry['date'], '%Y-%m-%d')\n",
    "#         all_dates.append((current_date+timedelta(hours=entry['hour'])))\n",
    "#         all_values.append(entry['total_count'])\n",
    "#     return all_dates,all_values\n",
    "\n",
    "# def uniq_dates(all_dates):\n",
    "#     return sorted(set(date.date() for date in all_dates))\n",
    "\n",
    "# def plotter(plotTitle, all_dates, all_values, unique_dates):\n",
    "#     plt.figure(figsize=(14, 6))\n",
    "#     plt.plot(all_dates, all_values, label='Book', color='blue')\n",
    "#     plt.xlabel('Date')\n",
    "#     plt.ylabel('Total Count')\n",
    "#     plt.legend()\n",
    "#     plt.grid(True)\n",
    "#     plt.title(f'Total Counts in Dates and Hours in - {plotTitle}')\n",
    "#     plt.grid(True)\n",
    "#     plt.xticks(unique_dates,rotation=90, fontsize=5)\n",
    "#     plt.savefig(f'step1-booking-{plotTitle}')\n",
    "#     plt.clf()"
   ]
  },
  {
   "cell_type": "code",
   "execution_count": 178,
   "metadata": {},
   "outputs": [
    {
     "data": {
      "text/plain": [
       "<Figure size 1400x600 with 0 Axes>"
      ]
     },
     "metadata": {},
     "output_type": "display_data"
    },
    {
     "data": {
      "text/plain": [
       "<Figure size 1400x600 with 0 Axes>"
      ]
     },
     "metadata": {},
     "output_type": "display_data"
    },
    {
     "data": {
      "text/plain": [
       "<Figure size 1400x600 with 0 Axes>"
      ]
     },
     "metadata": {},
     "output_type": "display_data"
    }
   ],
   "source": [
    "# for city,city_data in cities_data_array:\n",
    "#     flattened_list = flatten(city_data)\n",
    "#     all_dates,all_values = map_hour_count(flattened_list)\n",
    "#     unique_dates = uniq_dates(all_dates)\n",
    "#     plotter(city, all_dates, all_values, unique_dates)"
   ]
  }
 ],
 "metadata": {
  "kernelspec": {
   "display_name": "Python 3",
   "language": "python",
   "name": "python3"
  },
  "language_info": {
   "codemirror_mode": {
    "name": "ipython",
    "version": 3
   },
   "file_extension": ".py",
   "mimetype": "text/x-python",
   "name": "python",
   "nbconvert_exporter": "python",
   "pygments_lexer": "ipython3",
   "version": "3.11.6"
  }
 },
 "nbformat": 4,
 "nbformat_minor": 2
}
