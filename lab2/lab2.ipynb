{
 "cells": [
  {
   "cell_type": "code",
   "execution_count": 1054,
   "metadata": {},
   "outputs": [],
   "source": [
    "import pandas as pd\n",
    "import numpy as np\n",
    "import matplotlib.pyplot as plt\n",
    "import pymongo as pm\n",
    "import pprint\n",
    "from enum import Enum\n",
    "from datetime import datetime, timedelta\n",
    "import pytz"
   ]
  },
  {
   "cell_type": "code",
   "execution_count": 1057,
   "metadata": {},
   "outputs": [],
   "source": [
    "\n",
    "client = pm.MongoClient('bigdatadb.polito.it',                     \n",
    "                        ssl=True,                     \n",
    "                        authSource = 'carsharing',                     \n",
    "                        username = 'ictts',                     \n",
    "                        password ='Ict4SM22!',                     \n",
    "                        tlsAllowInvalidCertificates=True) \n",
    "db = client['carsharing'] \n",
    "\n",
    "#Choose the DB to use \n",
    "permenant_booking = db['PermanentBookings']\n",
    "permenant_parking = db['PermanentParkings']\n",
    "enjoy_permenant_booking = db['enjoy_PermanentBookings']\n",
    "enjoy_permenant_parking = db['enjoy_PermanentParkings']\n",
    "\n",
    "#ENUM of cities\n",
    "class CITY_ENUM(Enum):\n",
    "    TO = 'Torino'\n",
    "    SEA = 'Seattle'\n",
    "    STU = 'Stuttgart'\n",
    "class CITY_TIMEZONES(Enum):\n",
    "    TO = 'Europe/Rome'\n",
    "    SEA = 'America/Los_Angeles'\n",
    "    STU = 'Europe/Berlin'\n",
    "\n",
    "# def get_start_end_unix_zone(timezone):\n",
    "#     # start_timestamp = datetime(2018, 1, 1,0,0,0,0, pytz.timezone(timezone)).timestamp()\n",
    "#     # end_timestamp  = datetime(2018, 1, 31,23,59,59,0, pytz.timezone(timezone)).timestamp()\n",
    "#     return start_timestamp,end_timestamp    \n",
    "\n",
    "#date starts from 01/01/2018 to 31/01/2018 1514761200 - 1517353200\n",
    "start_unix_time = datetime.strptime(\"27/12/2017\", \"%d/%m/%Y\").timestamp()\n",
    "end_unix_time = datetime.strptime(\"27/01/2018\", \"%d/%m/%Y\").timestamp()"
   ]
  },
  {
   "cell_type": "code",
   "execution_count": 1058,
   "metadata": {},
   "outputs": [],
   "source": [
    "#pipeline for getting the data for the rentals with the filteration of the data\n",
    "#too short and too long rentals are filtered out\n",
    "#considered if car is moved\n",
    "def filter_pipeline(city,start_unix_time,end_unix_time):\n",
    "    return [\n",
    "    {\n",
    "        '$match': {\n",
    "            'city': city,\n",
    "            'init_time': {\n",
    "                '$gte': start_unix_time,\n",
    "                '$lt': end_unix_time\n",
    "            },\n",
    "            'final_time': {\n",
    "                '$gte': start_unix_time,\n",
    "                '$lt': end_unix_time\n",
    "            }\n",
    "        }\n",
    "    },\n",
    "    {\n",
    "        '$project': {\n",
    "            '_id': 0,\n",
    "            'duration': {\n",
    "                '$divide': [\n",
    "                    { '$subtract': ['$final_time', '$init_time'] },\n",
    "                    60  # Divide by 60 to convert seconds to minutes\n",
    "                ]\n",
    "            },\n",
    "            'day': {'$dayOfMonth': '$init_date'},\n",
    "            'hour': {'$hour': '$init_date'},\n",
    "            'date': {\n",
    "                '$dateToString': {\n",
    "                    'format': '%Y-%m-%d',\n",
    "                    'date': '$init_date'\n",
    "                }\n",
    "            },\n",
    "            'moved': {\n",
    "                '$ne':[\n",
    "                    {\"$arrayElemAt\": [ \"$origin_destination.coordinates\", 0]},\n",
    "                    {\"$arrayElemAt\": [ \"$origin_destination.coordinates\", 1]}\n",
    "                 ]\n",
    "            }\n",
    "        }\n",
    "    },\n",
    "    {\n",
    "        '$match': {\n",
    "            'moved': True,\n",
    "            'duration':{'$gt':5, '$lt':180},\n",
    "                \n",
    "        }\n",
    "    },\n",
    "    {\n",
    "        '$group':{\n",
    "            '_id': {'day': '$day', 'hour': '$hour', 'date': '$date'},\n",
    "            'total_count': {'$sum': 1},\n",
    "        }\n",
    "    },\n",
    "    {\n",
    "        '$sort': {\n",
    "            '_id': 1,\n",
    "        }\n",
    "    },\n",
    "]\n"
   ]
  },
  {
   "cell_type": "markdown",
   "metadata": {},
   "source": [
    "### Getting the data from Database"
   ]
  },
  {
   "cell_type": "code",
   "execution_count": 1059,
   "metadata": {},
   "outputs": [],
   "source": [
    "TO_Data = list(enjoy_permenant_booking.aggregate(filter_pipeline(CITY_ENUM.TO.value,\n",
    "          start_unix_time,end_unix_time)))\n",
    "SEA_Data = list(permenant_booking.aggregate(filter_pipeline(CITY_ENUM.SEA.value,\n",
    "          start_unix_time,end_unix_time)))\n",
    "STU_Data = list(permenant_booking.aggregate(filter_pipeline(CITY_ENUM.STU.value,\n",
    "          start_unix_time,end_unix_time)))\n",
    "cities_data_array = [(CITY_ENUM.TO.value,TO_Data),(CITY_ENUM.SEA.value,SEA_Data),(CITY_ENUM.STU.value,STU_Data)]"
   ]
  },
  {
   "cell_type": "markdown",
   "metadata": {},
   "source": [
    "#### checking if there are missing records - lwngth must be 744"
   ]
  },
  {
   "cell_type": "code",
   "execution_count": 1060,
   "metadata": {},
   "outputs": [
    {
     "name": "stdout",
     "output_type": "stream",
     "text": [
      "TO_Data 744\n",
      "SEA_Data 744\n",
      "STU_Data 744\n"
     ]
    }
   ],
   "source": [
    "print(\"TO_Data\",len(TO_Data))\n",
    "print(\"SEA_Data\",len(SEA_Data))\n",
    "print(\"STU_Data\",len(STU_Data))"
   ]
  },
  {
   "cell_type": "markdown",
   "metadata": {},
   "source": [
    "##### Dropping the _id col and flattening the data"
   ]
  },
  {
   "cell_type": "code",
   "execution_count": 1061,
   "metadata": {},
   "outputs": [],
   "source": [
    "def dfModifier(city_list):\n",
    "  df = pd.DataFrame(city_list, columns =['_id', 'total_count'])\n",
    "  df['date'] = df['_id'].apply(lambda x: x['date'])\n",
    "  df['day'] = df['_id'].apply(lambda x: x['day'])\n",
    "  df['hour'] = df['_id'].apply(lambda x: x['hour'])\n",
    "  df['myIndex'] = (df['day']-1)*24 + (df['hour']+1)\n",
    "  df.drop(['_id'], axis=1, inplace=True)\n",
    "  return df\n",
    "#day | hour\n",
    "#1   | 0 -> day*24 + hour => 1*24 + 0 = 24\n",
    "#1   | 1 -> day*24 + hour => 1*24 + 1 = 25\n",
    "#1   | 2 -> day*24 + hour => 1*24 + 2 = 26\n",
    "#day | hour\n",
    "#0   | 1 -> day*24 + hour => 0*24 + 1 = 1\n",
    "#0   | 2 -> day*24 + hour => 0*24 + 2 = 2\n",
    "#0   | 3 -> day*24 + hour => 0*24 + 3 = 3\n",
    "\n",
    "TO_df = dfModifier(TO_Data)\n",
    "SEA_df = dfModifier(SEA_Data)\n",
    "STU_df = dfModifier(STU_Data)\n",
    "cities_df_array = [(CITY_ENUM.TO.value,TO_df),(CITY_ENUM.SEA.value,SEA_df),(CITY_ENUM.STU.value,STU_df)]\n"
   ]
  },
  {
   "cell_type": "code",
   "execution_count": 1062,
   "metadata": {},
   "outputs": [
    {
     "name": "stdout",
     "output_type": "stream",
     "text": [
      "TO_df      total_count        date  day  hour  myIndex\n",
      "0             66  2018-01-01    1     0        1\n",
      "1            105  2018-01-01    1     1        2\n",
      "2            101  2018-01-01    1     2        3\n",
      "3             80  2018-01-01    1     3        4\n",
      "4             55  2018-01-01    1     4        5\n",
      "..           ...         ...  ...   ...      ...\n",
      "739          118  2017-12-31   31    19      740\n",
      "740          127  2017-12-31   31    20      741\n",
      "741           66  2017-12-31   31    21      742\n",
      "742           43  2017-12-31   31    22      743\n",
      "743           39  2017-12-31   31    23      744\n",
      "\n",
      "[744 rows x 5 columns]\n"
     ]
    }
   ],
   "source": [
    "# calculating the avg for each hour of the day\n",
    "# Assuming your DataFrame is named TO_df\n",
    "\n",
    "print(\"TO_df\",TO_df)\n",
    "\n",
    "TO_hourly_avg = TO_df.groupby('hour')['total_count'].mean().round().reset_index().astype(int)['total_count'].tolist()\n",
    "SEA_hourly_avg = SEA_df.groupby('hour')['total_count'].mean().round().reset_index().astype(int)['total_count'].tolist()\n",
    "STU_hourly_avg = STU_df.groupby('hour')['total_count'].mean().round().reset_index().astype(int)['total_count'].tolist()\n",
    "\n",
    "# print(\"TO_hourly_avg\",TO_hourly_avg)\n",
    "# print(\"SEA_hourly_avg\",SEA_hourly_avg)\n",
    "# print(\"STU_hourly_avg\",STU_hourly_avg)\n"
   ]
  },
  {
   "cell_type": "code",
   "execution_count": 1063,
   "metadata": {},
   "outputs": [
    {
     "name": "stdout",
     "output_type": "stream",
     "text": [
      "TO_hourly_avg [67, 42, 27, 17, 17, 23, 39, 68, 99, 85, 75, 74, 91, 91, 97, 101, 101, 110, 118, 118, 110, 94, 85, 80]\n"
     ]
    }
   ],
   "source": [
    "print(\"TO_hourly_avg\",TO_hourly_avg)"
   ]
  },
  {
   "cell_type": "markdown",
   "metadata": {},
   "source": [
    "##### finding the mising values and filling them with Mean of Col"
   ]
  },
  {
   "cell_type": "code",
   "execution_count": 1064,
   "metadata": {},
   "outputs": [
    {
     "name": "stdout",
     "output_type": "stream",
     "text": [
      "Missing values are: 0 set()\n",
      "Missing values are: 0 set()\n",
      "Missing values are: 0 set()\n"
     ]
    }
   ],
   "source": [
    "def fillMissingValues(df:pd.DataFrame, avg_df):\n",
    "  missingValues=set(np.arange(1,31*24+1)).difference(set(df['myIndex']))\n",
    "  # dfMean = round(np.mean(df['total_count']))\n",
    "  print(\"Missing values are:\", len(missingValues), missingValues)\n",
    "  df2 = df\n",
    "  for value in missingValues:\n",
    "    dayOfValue = int((value-1)/24)+1\n",
    "    hourOfValue = (value-1)%24\n",
    "    new_row = pd.DataFrame({'total_count':avg_df[hourOfValue],'date':f'2018-01-{dayOfValue:02d}',\n",
    "                            'day':dayOfValue,'hour':hourOfValue,'myIndex':value}, index =[0])\n",
    "    df2 = pd.concat([new_row,df2.loc[:]]).reset_index(drop = True)\n",
    "  df2.sort_values(by=['myIndex'], inplace=True)\n",
    "  return df2\n",
    "\n",
    "To_FilledValues = fillMissingValues(TO_df, TO_hourly_avg)\n",
    "SEA_FilledValues = fillMissingValues(SEA_df,SEA_hourly_avg)\n",
    "STU_FilledValues = fillMissingValues(STU_df,SEA_hourly_avg)\n",
    "#remember to remove this line - it has never been used !!!!!!!!!!!!!!!!!!!!!!!!!!!!!!!!!!!!! TODO\n",
    "# SEA_FilledValues.at[744,'date'] = '2018-01-31'"
   ]
  },
  {
   "cell_type": "code",
   "execution_count": 1065,
   "metadata": {},
   "outputs": [
    {
     "name": "stdout",
     "output_type": "stream",
     "text": [
      "To_FilledValues 744\n",
      "SEA_FilledValues 744\n",
      "STU_FilledValues 744      total_count        date  day  hour  myIndex\n",
      "743           43  2017-12-31   31    23      744\n"
     ]
    }
   ],
   "source": [
    "print(\"To_FilledValues\",len(To_FilledValues))\n",
    "print(\"SEA_FilledValues\",len(SEA_FilledValues))\n",
    "print(\"STU_FilledValues\",len(STU_FilledValues), STU_FilledValues[743:745])"
   ]
  },
  {
   "cell_type": "markdown",
   "metadata": {},
   "source": [
    "#### Plotting the data and Rolling mean and std to check if the time series is stationary"
   ]
  },
  {
   "cell_type": "code",
   "execution_count": 1066,
   "metadata": {},
   "outputs": [],
   "source": [
    "def plotter(plotTitle, df:pd.DataFrame):\n",
    "    mean = df['total_count'].rolling(window=24*7).mean()\n",
    "    std = df['total_count'].rolling(window=24*7).std()\n",
    "    plt.figure(figsize=(14, 6))\n",
    "    plt.plot(df['myIndex'], mean, label='Rolling Mean', color='red')\n",
    "    plt.plot(df['myIndex'], std, label='Rolling Std', color='green')\n",
    "    plt.plot()\n",
    "    plt.plot(df['myIndex'], df['total_count'], label='Rental', color='blue')\n",
    "    plt.xlabel('Date')\n",
    "    plt.ylabel('Total Count')\n",
    "    plt.legend()\n",
    "    plt.grid(True)\n",
    "    plt.title(f'Total Counts in Dates and Hours in - {plotTitle}')\n",
    "    plt.grid(True)\n",
    "    plt.savefig(f'{plotTitle}-Roolings-mean-std')\n",
    "    plt.clf()"
   ]
  },
  {
   "cell_type": "code",
   "execution_count": 1067,
   "metadata": {},
   "outputs": [
    {
     "data": {
      "text/plain": [
       "<Figure size 1400x600 with 0 Axes>"
      ]
     },
     "metadata": {},
     "output_type": "display_data"
    },
    {
     "data": {
      "text/plain": [
       "<Figure size 1400x600 with 0 Axes>"
      ]
     },
     "metadata": {},
     "output_type": "display_data"
    },
    {
     "data": {
      "text/plain": [
       "<Figure size 1400x600 with 0 Axes>"
      ]
     },
     "metadata": {},
     "output_type": "display_data"
    }
   ],
   "source": [
    "plotter('Torino',To_FilledValues)\n",
    "plotter('Seattle',SEA_FilledValues)\n",
    "plotter('Stuttgart',STU_FilledValues)"
   ]
  },
  {
   "cell_type": "code",
   "execution_count": 1068,
   "metadata": {},
   "outputs": [],
   "source": [
    "cleanFilledCities = [(CITY_ENUM.TO.value,To_FilledValues),(CITY_ENUM.SEA.value,SEA_FilledValues),(CITY_ENUM.STU.value,STU_FilledValues)]"
   ]
  },
  {
   "cell_type": "markdown",
   "metadata": {},
   "source": [
    "## Computing the ACF and PACF"
   ]
  },
  {
   "cell_type": "markdown",
   "metadata": {},
   "source": [
    "##### ACF Figure"
   ]
  },
  {
   "cell_type": "code",
   "execution_count": 1069,
   "metadata": {},
   "outputs": [],
   "source": [
    "from statsmodels.tsa.stattools import acf,pacf\n",
    "from statsmodels.graphics.tsaplots import plot_pacf, plot_acf\n",
    "\n",
    "# Use ACF to find q.\n",
    "# Use PACF to find p.\n",
    "\n",
    "def ACF_PACF(city_data):\n",
    "  # plot acf\n",
    "  plt.figure(figsize=(6,4))\n",
    "  plot_acf(city_data[1][\"total_count\"], lags=48)\n",
    "  plt.title(f'Autocorrelation Function 48 Hours - {city_data[0]}')\n",
    "  plt.xlabel('Lags')\n",
    "  plt.grid(True)\n",
    "  # plt.show()\n",
    "  plt.savefig(f'{city_data[0]}-ACF')\n",
    "\n",
    "  # plot pacf\n",
    "  plt.figure(figsize=(6,4))\n",
    "  plot_pacf(city_data[1][\"total_count\"], lags=48)\n",
    "  plt.title(f'Partial Autocorrelation Function 48 Hours - {city_data[0]}')\n",
    "  plt.xlabel('Lags')\n",
    "  plt.grid(True)\n",
    "  # plt.show()\n",
    "  plt.savefig(f'{city_data[0]}-PACF')\n",
    "  \n"
   ]
  },
  {
   "cell_type": "code",
   "execution_count": 1070,
   "metadata": {},
   "outputs": [
    {
     "data": {
      "text/plain": [
       "<Figure size 600x400 with 0 Axes>"
      ]
     },
     "metadata": {},
     "output_type": "display_data"
    },
    {
     "data": {
      "image/png": "[encoded data removed]",
      "text/plain": [
       "<Figure size 640x480 with 1 Axes>"
      ]
     },
     "metadata": {},
     "output_type": "display_data"
    },
    {
     "data": {
      "text/plain": [
       "<Figure size 600x400 with 0 Axes>"
      ]
     },
     "metadata": {},
     "output_type": "display_data"
    },
    {
     "data": {
      "image/png": "[encoded data removed]",
      "text/plain": [
       "<Figure size 640x480 with 1 Axes>"
      ]
     },
     "metadata": {},
     "output_type": "display_data"
    },
    {
     "data": {
      "text/plain": [
       "<Figure size 600x400 with 0 Axes>"
      ]
     },
     "metadata": {},
     "output_type": "display_data"
    },
    {
     "data": {
      "image/png": "[encoded data removed]",
      "text/plain": [
       "<Figure size 640x480 with 1 Axes>"
      ]
     },
     "metadata": {},
     "output_type": "display_data"
    },
    {
     "data": {
      "text/plain": [
       "<Figure size 600x400 with 0 Axes>"
      ]
     },
     "metadata": {},
     "output_type": "display_data"
    },
    {
     "data": {
      "image/png": "[encoded data removed]",
      "text/plain": [
       "<Figure size 640x480 with 1 Axes>"
      ]
     },
     "metadata": {},
     "output_type": "display_data"
    },
    {
     "data": {
      "text/plain": [
       "<Figure size 600x400 with 0 Axes>"
      ]
     },
     "metadata": {},
     "output_type": "display_data"
    },
    {
     "data": {
      "image/png": "[encoded data removed]",
      "text/plain": [
       "<Figure size 640x480 with 1 Axes>"
      ]
     },
     "metadata": {},
     "output_type": "display_data"
    },
    {
     "data": {
      "text/plain": [
       "<Figure size 600x400 with 0 Axes>"
      ]
     },
     "metadata": {},
     "output_type": "display_data"
    },
    {
     "data": {
      "image/png": "[encoded data removed]",
      "text/plain": [
       "<Figure size 640x480 with 1 Axes>"
      ]
     },
     "metadata": {},
     "output_type": "display_data"
    }
   ],
   "source": [
    "for city_data in cities_df_array:\n",
    "  ACF_PACF(city_data)"
   ]
  },
  {
   "cell_type": "markdown",
   "metadata": {},
   "source": [
    "### ARIMA Model and Prediction"
   ]
  },
  {
   "cell_type": "code",
   "execution_count": 1071,
   "metadata": {},
   "outputs": [
    {
     "name": "stdout",
     "output_type": "stream",
     "text": [
      "Torino 744\n",
      "Seattle 744\n",
      "Stuttgart 744\n"
     ]
    }
   ],
   "source": [
    "# for city in cleanFilledCities:\n",
    "#   print(city[0], len(city[1]))"
   ]
  },
  {
   "cell_type": "code",
   "execution_count": 1085,
   "metadata": {},
   "outputs": [],
   "source": [
    "from statsmodels.tsa.arima.model import ARIMA\n",
    "import warnings\n",
    "from statsmodels.tools.sm_exceptions import ConvergenceWarning\n",
    "warnings.simplefilter('ignore', ConvergenceWarning)\n",
    "\n",
    "q = 4\n",
    "p = 2\n",
    "d = 0\n",
    "train_size = 24 * 7 * 2 # 24 * 7 * 3 # 3 weeks -> we will change this to 14 days\n",
    "test_size = 24 * 3 # 10 days -> this takes too long to run so we will use 72 hours\n",
    "myModel = None\n",
    "def Predictor(cleanCity):\n",
    "  originalData = list(cleanCity[1]['total_count'][:train_size])#.tolist()\n",
    "  y_hat = [None for _ in range(train_size)] # should it be a list or pandas array?\n",
    "  for record in range(train_size,train_size+test_size):\n",
    "    model = ARIMA(originalData, order=(p,d,q))\n",
    "    model_fit = model.fit()\n",
    "    prediction = int(model_fit.forecast()[0])\n",
    "    # print(f'Prediction for {cleanCity[0]} at {record} is {prediction}')\n",
    "    y_hat.append(prediction)\n",
    "    originalData.append(cleanCity[1]['total_count'][record])\n",
    "    originalData = originalData[1:]\n",
    "    myModel = model_fit\n",
    "\n",
    "  plt.figure(figsize=(15,5))\n",
    "  plt.title(\"Predicted values vs Real values\")\n",
    "  plt.plot(list(cleanCity[1]['total_count'][train_size:train_size+test_size]), color='blue', label=\"Real values\")\n",
    "  plt.plot(list(y_hat[train_size: train_size+test_size]), color='red', label=\"Predicted values\")\n",
    "  plt.legend()\n",
    "  plt.xlabel(\"Lags\")\n",
    "  plt.ylabel(\"Rentals\")\n",
    "  plt.grid(True)\n",
    "  plt.savefig(f'2 day prediction {cleanCity[0]}')\n",
    "  plt.clf()\n",
    "\n",
    "  # plot residual errors\n",
    "  residuals = pd.DataFrame(myModel.resid)\n",
    "  residuals.plot()\n",
    "  plt.title(f'Residuals - {cleanCity[0]}')\n",
    "  plt.xlabel(\"Residual Error\")\n",
    "  plt.ylabel(\"Residuals\")\n",
    "  plt.grid(True)\n",
    "  plt.savefig(f'2 day Residuals {cleanCity[0]}')\n",
    "  plt.clf()\n",
    "\n",
    "  residuals.plot(kind='kde')\n",
    "  plt.title(f'Density of Residuals - {cleanCity[0]}')\n",
    "  plt.xlabel(\"Residual Error\")\n",
    "  plt.ylabel(\"Density\")\n",
    "  plt.grid(True)\n",
    "  plt.savefig(f'2 day Density of Residuals {cleanCity[0]}')\n",
    "  plt.clf()\n",
    "  return y_hat, model_fit\n"
   ]
  },
  {
   "cell_type": "code",
   "execution_count": 1086,
   "metadata": {},
   "outputs": [
    {
     "name": "stdout",
     "output_type": "stream",
     "text": [
      "Torino\n",
      "Seattle\n"
     ]
    },
    {
     "name": "stderr",
     "output_type": "stream",
     "text": [
      "/usr/local/lib/python3.11/site-packages/statsmodels/tsa/statespace/sarimax.py:966: UserWarning: Non-stationary starting autoregressive parameters found. Using zeros as starting parameters.\n",
      "  warn('Non-stationary starting autoregressive parameters'\n",
      "/usr/local/lib/python3.11/site-packages/statsmodels/tsa/statespace/sarimax.py:978: UserWarning: Non-invertible starting MA parameters found. Using zeros as starting parameters.\n",
      "  warn('Non-invertible starting MA parameters found.'\n"
     ]
    },
    {
     "name": "stdout",
     "output_type": "stream",
     "text": [
      "Stuttgart\n"
     ]
    },
    {
     "data": {
      "text/plain": [
       "<Figure size 1500x500 with 0 Axes>"
      ]
     },
     "metadata": {},
     "output_type": "display_data"
    },
    {
     "data": {
      "text/plain": [
       "<Figure size 640x480 with 0 Axes>"
      ]
     },
     "metadata": {},
     "output_type": "display_data"
    },
    {
     "data": {
      "text/plain": [
       "<Figure size 640x480 with 0 Axes>"
      ]
     },
     "metadata": {},
     "output_type": "display_data"
    },
    {
     "data": {
      "text/plain": [
       "<Figure size 1500x500 with 0 Axes>"
      ]
     },
     "metadata": {},
     "output_type": "display_data"
    },
    {
     "data": {
      "text/plain": [
       "<Figure size 640x480 with 0 Axes>"
      ]
     },
     "metadata": {},
     "output_type": "display_data"
    },
    {
     "data": {
      "text/plain": [
       "<Figure size 640x480 with 0 Axes>"
      ]
     },
     "metadata": {},
     "output_type": "display_data"
    },
    {
     "data": {
      "text/plain": [
       "<Figure size 1500x500 with 0 Axes>"
      ]
     },
     "metadata": {},
     "output_type": "display_data"
    },
    {
     "data": {
      "text/plain": [
       "<Figure size 640x480 with 0 Axes>"
      ]
     },
     "metadata": {},
     "output_type": "display_data"
    },
    {
     "data": {
      "text/plain": [
       "<Figure size 640x480 with 0 Axes>"
      ]
     },
     "metadata": {},
     "output_type": "display_data"
    }
   ],
   "source": [
    "comparisonArray = []\n",
    "for city_data in cleanFilledCities:\n",
    "  print(city_data[0])\n",
    "  y_hat, model_fit = Predictor(city_data)\n",
    "  y_hat = y_hat[train_size:train_size+test_size]\n",
    "  comparisonArray.append((city_data[0],city_data[1]['total_count'][train_size:train_size+test_size], y_hat, model_fit))"
   ]
  },
  {
   "cell_type": "code",
   "execution_count": 1087,
   "metadata": {},
   "outputs": [
    {
     "name": "stdout",
     "output_type": "stream",
     "text": [
      "Torino -> MSE: 365.86, RMSE: 19.13, R2: 0.77, MAPE: 0.32\n",
      "Seattle -> MSE: 373.31, RMSE: 19.32, R2: 0.86, MAPE: 0.38\n",
      "Stuttgart -> MSE: 526.42, RMSE: 22.94, R2: 0.75, MAPE: 0.43\n"
     ]
    }
   ],
   "source": [
    "from sklearn.metrics import mean_squared_error,r2_score, mean_absolute_percentage_error\n",
    "\n",
    "for item in comparisonArray:\n",
    "  mse = mean_squared_error(item[1], item[2])\n",
    "  rmse = np.sqrt(mse)\n",
    "  r2 = r2_score(item[1], item[2])\n",
    "  mape = mean_absolute_percentage_error(item[1], item[2])\n",
    "  print(f'{item[0]} -> MSE: {mse:.2f}, RMSE: {rmse:.2f}, R2: {r2:.2f}, MAPE: {mape:.2f}')"
   ]
  },
  {
   "cell_type": "markdown",
   "metadata": {},
   "source": [
    "### Variant values for p d q"
   ]
  },
  {
   "cell_type": "code",
   "execution_count": 1088,
   "metadata": {},
   "outputs": [
    {
     "name": "stderr",
     "output_type": "stream",
     "text": [
      "/usr/local/lib/python3.11/site-packages/statsmodels/tsa/statespace/sarimax.py:978: UserWarning: Non-invertible starting MA parameters found. Using zeros as starting parameters.\n",
      "  warn('Non-invertible starting MA parameters found.'\n",
      "/usr/local/lib/python3.11/site-packages/statsmodels/tsa/statespace/sarimax.py:966: UserWarning: Non-stationary starting autoregressive parameters found. Using zeros as starting parameters.\n",
      "  warn('Non-stationary starting autoregressive parameters'\n",
      "/usr/local/lib/python3.11/site-packages/statsmodels/tsa/statespace/sarimax.py:978: UserWarning: Non-invertible starting MA parameters found. Using zeros as starting parameters.\n",
      "  warn('Non-invertible starting MA parameters found.'\n",
      "/usr/local/lib/python3.11/site-packages/statsmodels/tsa/statespace/sarimax.py:978: UserWarning: Non-invertible starting MA parameters found. Using zeros as starting parameters.\n",
      "  warn('Non-invertible starting MA parameters found.'\n",
      "/usr/local/lib/python3.11/site-packages/statsmodels/tsa/statespace/sarimax.py:966: UserWarning: Non-stationary starting autoregressive parameters found. Using zeros as starting parameters.\n",
      "  warn('Non-stationary starting autoregressive parameters'\n",
      "/usr/local/lib/python3.11/site-packages/statsmodels/tsa/statespace/sarimax.py:978: UserWarning: Non-invertible starting MA parameters found. Using zeros as starting parameters.\n",
      "  warn('Non-invertible starting MA parameters found.'\n"
     ]
    },
    {
     "name": "stdout",
     "output_type": "stream",
     "text": [
      "error\n",
      "error\n",
      "error\n",
      "error\n",
      "error\n",
      "error\n",
      "error\n",
      "error\n",
      "error\n",
      "error\n",
      "error\n",
      "error\n",
      "error\n",
      "error\n",
      "error\n",
      "error\n",
      "error\n",
      "error\n",
      "error\n",
      "error\n",
      "error\n",
      "error\n",
      "error\n",
      "error\n",
      "error\n"
     ]
    },
    {
     "name": "stderr",
     "output_type": "stream",
     "text": [
      "/usr/local/lib/python3.11/site-packages/statsmodels/tsa/statespace/sarimax.py:966: UserWarning: Non-stationary starting autoregressive parameters found. Using zeros as starting parameters.\n",
      "  warn('Non-stationary starting autoregressive parameters'\n",
      "/usr/local/lib/python3.11/site-packages/statsmodels/tsa/statespace/sarimax.py:978: UserWarning: Non-invertible starting MA parameters found. Using zeros as starting parameters.\n",
      "  warn('Non-invertible starting MA parameters found.'\n",
      "/usr/local/lib/python3.11/site-packages/statsmodels/tsa/statespace/sarimax.py:966: UserWarning: Non-stationary starting autoregressive parameters found. Using zeros as starting parameters.\n",
      "  warn('Non-stationary starting autoregressive parameters'\n",
      "/usr/local/lib/python3.11/site-packages/statsmodels/tsa/statespace/sarimax.py:978: UserWarning: Non-invertible starting MA parameters found. Using zeros as starting parameters.\n",
      "  warn('Non-invertible starting MA parameters found.'\n"
     ]
    },
    {
     "name": "stdout",
     "output_type": "stream",
     "text": [
      "error\n",
      "error\n",
      "error\n",
      "error\n",
      "error\n",
      "error\n",
      "error\n",
      "error\n",
      "error\n"
     ]
    },
    {
     "name": "stderr",
     "output_type": "stream",
     "text": [
      "/usr/local/lib/python3.11/site-packages/statsmodels/tsa/statespace/sarimax.py:966: UserWarning: Non-stationary starting autoregressive parameters found. Using zeros as starting parameters.\n",
      "  warn('Non-stationary starting autoregressive parameters'\n",
      "/usr/local/lib/python3.11/site-packages/statsmodels/tsa/statespace/sarimax.py:978: UserWarning: Non-invertible starting MA parameters found. Using zeros as starting parameters.\n",
      "  warn('Non-invertible starting MA parameters found.'\n"
     ]
    },
    {
     "name": "stdout",
     "output_type": "stream",
     "text": [
      "error\n",
      "error\n",
      "error\n",
      "error\n",
      "error\n",
      "error\n",
      "error\n",
      "error\n",
      "error\n",
      "error\n",
      "error\n",
      "error\n",
      "error\n",
      "error\n",
      "error\n",
      "error\n",
      "error\n",
      "error\n",
      "error\n",
      "error\n",
      "error\n",
      "error\n",
      "error\n",
      "error\n",
      "error\n",
      "error\n",
      "error\n",
      "error\n",
      "error\n",
      "error\n",
      "error\n",
      "error\n",
      "error\n",
      "error\n",
      "error\n",
      "error\n",
      "error\n",
      "error\n",
      "error\n",
      "error\n",
      "error\n",
      "error\n",
      "error\n",
      "error\n",
      "error\n",
      "error\n",
      "error\n",
      "error\n",
      "error\n",
      "error\n",
      "error\n",
      "error\n",
      "error\n",
      "error\n",
      "error\n",
      "error\n",
      "error\n",
      "error\n",
      "error\n",
      "error\n",
      "error\n",
      "error\n",
      "error\n",
      "error\n",
      "error\n",
      "error\n",
      "error\n"
     ]
    },
    {
     "name": "stderr",
     "output_type": "stream",
     "text": [
      "/usr/local/lib/python3.11/site-packages/statsmodels/tsa/statespace/sarimax.py:966: UserWarning: Non-stationary starting autoregressive parameters found. Using zeros as starting parameters.\n",
      "  warn('Non-stationary starting autoregressive parameters'\n",
      "/usr/local/lib/python3.11/site-packages/statsmodels/tsa/statespace/sarimax.py:978: UserWarning: Non-invertible starting MA parameters found. Using zeros as starting parameters.\n",
      "  warn('Non-invertible starting MA parameters found.'\n"
     ]
    },
    {
     "name": "stdout",
     "output_type": "stream",
     "text": [
      "error\n",
      "error\n",
      "error\n",
      "error\n",
      "error\n",
      "error\n",
      "error\n",
      "error\n",
      "error\n"
     ]
    },
    {
     "name": "stderr",
     "output_type": "stream",
     "text": [
      "/usr/local/lib/python3.11/site-packages/statsmodels/tsa/statespace/sarimax.py:978: UserWarning: Non-invertible starting MA parameters found. Using zeros as starting parameters.\n",
      "  warn('Non-invertible starting MA parameters found.'\n",
      "/usr/local/lib/python3.11/site-packages/statsmodels/tsa/statespace/sarimax.py:966: UserWarning: Non-stationary starting autoregressive parameters found. Using zeros as starting parameters.\n",
      "  warn('Non-stationary starting autoregressive parameters'\n",
      "/usr/local/lib/python3.11/site-packages/statsmodels/tsa/statespace/sarimax.py:978: UserWarning: Non-invertible starting MA parameters found. Using zeros as starting parameters.\n",
      "  warn('Non-invertible starting MA parameters found.'\n",
      "/usr/local/lib/python3.11/site-packages/statsmodels/tsa/statespace/sarimax.py:966: UserWarning: Non-stationary starting autoregressive parameters found. Using zeros as starting parameters.\n",
      "  warn('Non-stationary starting autoregressive parameters'\n",
      "/usr/local/lib/python3.11/site-packages/statsmodels/tsa/statespace/sarimax.py:978: UserWarning: Non-invertible starting MA parameters found. Using zeros as starting parameters.\n",
      "  warn('Non-invertible starting MA parameters found.'\n",
      "/usr/local/lib/python3.11/site-packages/statsmodels/tsa/statespace/sarimax.py:978: UserWarning: Non-invertible starting MA parameters found. Using zeros as starting parameters.\n",
      "  warn('Non-invertible starting MA parameters found.'\n",
      "/usr/local/lib/python3.11/site-packages/statsmodels/tsa/statespace/sarimax.py:966: UserWarning: Non-stationary starting autoregressive parameters found. Using zeros as starting parameters.\n",
      "  warn('Non-stationary starting autoregressive parameters'\n",
      "/usr/local/lib/python3.11/site-packages/statsmodels/tsa/statespace/sarimax.py:978: UserWarning: Non-invertible starting MA parameters found. Using zeros as starting parameters.\n",
      "  warn('Non-invertible starting MA parameters found.'\n",
      "/usr/local/lib/python3.11/site-packages/statsmodels/tsa/statespace/sarimax.py:966: UserWarning: Non-stationary starting autoregressive parameters found. Using zeros as starting parameters.\n",
      "  warn('Non-stationary starting autoregressive parameters'\n",
      "/usr/local/lib/python3.11/site-packages/statsmodels/tsa/statespace/sarimax.py:978: UserWarning: Non-invertible starting MA parameters found. Using zeros as starting parameters.\n",
      "  warn('Non-invertible starting MA parameters found.'\n"
     ]
    },
    {
     "name": "stdout",
     "output_type": "stream",
     "text": [
      "error\n",
      "error\n",
      "error\n",
      "error\n"
     ]
    },
    {
     "name": "stderr",
     "output_type": "stream",
     "text": [
      "/usr/local/lib/python3.11/site-packages/statsmodels/tsa/statespace/sarimax.py:966: UserWarning: Non-stationary starting autoregressive parameters found. Using zeros as starting parameters.\n",
      "  warn('Non-stationary starting autoregressive parameters'\n",
      "/usr/local/lib/python3.11/site-packages/statsmodels/tsa/statespace/sarimax.py:978: UserWarning: Non-invertible starting MA parameters found. Using zeros as starting parameters.\n",
      "  warn('Non-invertible starting MA parameters found.'\n",
      "/usr/local/lib/python3.11/site-packages/statsmodels/tsa/statespace/sarimax.py:966: UserWarning: Non-stationary starting autoregressive parameters found. Using zeros as starting parameters.\n",
      "  warn('Non-stationary starting autoregressive parameters'\n",
      "/usr/local/lib/python3.11/site-packages/statsmodels/tsa/statespace/sarimax.py:978: UserWarning: Non-invertible starting MA parameters found. Using zeros as starting parameters.\n",
      "  warn('Non-invertible starting MA parameters found.'\n"
     ]
    },
    {
     "name": "stdout",
     "output_type": "stream",
     "text": [
      "error\n",
      "error\n",
      "error\n",
      "error\n",
      "error\n",
      "error\n",
      "error\n",
      "error\n",
      "error\n",
      "error\n",
      "error\n",
      "error\n",
      "error\n",
      "error\n",
      "error\n",
      "error\n",
      "error\n",
      "error\n",
      "error\n",
      "error\n",
      "error\n",
      "error\n",
      "error\n",
      "error\n",
      "error\n",
      "error\n",
      "error\n",
      "error\n",
      "error\n",
      "error\n",
      "error\n",
      "error\n",
      "error\n",
      "error\n",
      "error\n",
      "error\n",
      "error\n",
      "error\n",
      "error\n",
      "error\n",
      "error\n",
      "error\n",
      "error\n",
      "error\n",
      "error\n",
      "error\n",
      "error\n",
      "error\n",
      "error\n",
      "error\n",
      "error\n",
      "error\n",
      "error\n",
      "error\n",
      "error\n",
      "error\n",
      "error\n",
      "error\n",
      "error\n",
      "error\n",
      "error\n",
      "error\n",
      "error\n"
     ]
    },
    {
     "name": "stderr",
     "output_type": "stream",
     "text": [
      "/usr/local/lib/python3.11/site-packages/statsmodels/tsa/statespace/sarimax.py:966: UserWarning: Non-stationary starting autoregressive parameters found. Using zeros as starting parameters.\n",
      "  warn('Non-stationary starting autoregressive parameters'\n",
      "/usr/local/lib/python3.11/site-packages/statsmodels/tsa/statespace/sarimax.py:978: UserWarning: Non-invertible starting MA parameters found. Using zeros as starting parameters.\n",
      "  warn('Non-invertible starting MA parameters found.'\n"
     ]
    },
    {
     "name": "stdout",
     "output_type": "stream",
     "text": [
      "error\n",
      "error\n",
      "error\n",
      "error\n",
      "error\n",
      "error\n",
      "error\n",
      "error\n",
      "error\n",
      "error\n",
      "error\n",
      "error\n",
      "error\n",
      "error\n",
      "error\n",
      "error\n",
      "error\n",
      "error\n",
      "error\n",
      "error\n",
      "error\n",
      "error\n",
      "error\n",
      "error\n",
      "error\n",
      "error\n",
      "error\n",
      "error\n",
      "error\n",
      "error\n",
      "error\n",
      "error\n",
      "error\n",
      "error\n",
      "error\n",
      "error\n",
      "error\n",
      "error\n",
      "error\n",
      "error\n",
      "error\n",
      "error\n",
      "error\n",
      "error\n",
      "error\n",
      "error\n",
      "error\n",
      "error\n",
      "error\n",
      "error\n",
      "error\n",
      "error\n",
      "error\n",
      "error\n",
      "error\n",
      "error\n",
      "error\n",
      "error\n",
      "error\n",
      "error\n",
      "error\n",
      "error\n",
      "error\n",
      "error\n",
      "error\n",
      "error\n",
      "error\n",
      "error\n",
      "error\n",
      "error\n",
      "error\n",
      "error\n"
     ]
    },
    {
     "name": "stderr",
     "output_type": "stream",
     "text": [
      "/usr/local/lib/python3.11/site-packages/statsmodels/tsa/statespace/sarimax.py:966: UserWarning: Non-stationary starting autoregressive parameters found. Using zeros as starting parameters.\n",
      "  warn('Non-stationary starting autoregressive parameters'\n",
      "/usr/local/lib/python3.11/site-packages/statsmodels/tsa/statespace/sarimax.py:978: UserWarning: Non-invertible starting MA parameters found. Using zeros as starting parameters.\n",
      "  warn('Non-invertible starting MA parameters found.'\n",
      "/usr/local/lib/python3.11/site-packages/statsmodels/tsa/statespace/sarimax.py:966: UserWarning: Non-stationary starting autoregressive parameters found. Using zeros as starting parameters.\n",
      "  warn('Non-stationary starting autoregressive parameters'\n",
      "/usr/local/lib/python3.11/site-packages/statsmodels/tsa/statespace/sarimax.py:978: UserWarning: Non-invertible starting MA parameters found. Using zeros as starting parameters.\n",
      "  warn('Non-invertible starting MA parameters found.'\n",
      "/usr/local/lib/python3.11/site-packages/statsmodels/tsa/statespace/sarimax.py:966: UserWarning: Non-stationary starting autoregressive parameters found. Using zeros as starting parameters.\n",
      "  warn('Non-stationary starting autoregressive parameters'\n",
      "/usr/local/lib/python3.11/site-packages/statsmodels/tsa/statespace/sarimax.py:978: UserWarning: Non-invertible starting MA parameters found. Using zeros as starting parameters.\n",
      "  warn('Non-invertible starting MA parameters found.'\n",
      "/usr/local/lib/python3.11/site-packages/statsmodels/tsa/statespace/sarimax.py:966: UserWarning: Non-stationary starting autoregressive parameters found. Using zeros as starting parameters.\n",
      "  warn('Non-stationary starting autoregressive parameters'\n",
      "/usr/local/lib/python3.11/site-packages/statsmodels/tsa/statespace/sarimax.py:978: UserWarning: Non-invertible starting MA parameters found. Using zeros as starting parameters.\n",
      "  warn('Non-invertible starting MA parameters found.'\n"
     ]
    },
    {
     "name": "stdout",
     "output_type": "stream",
     "text": [
      "error\n",
      "error\n",
      "error\n",
      "error\n",
      "error\n",
      "error\n",
      "error\n",
      "error\n",
      "error\n",
      "error\n",
      "error\n",
      "error\n",
      "error\n",
      "error\n",
      "error\n",
      "error\n",
      "error\n",
      "error\n",
      "error\n",
      "error\n",
      "error\n",
      "error\n",
      "error\n",
      "error\n",
      "error\n",
      "error\n",
      "error\n",
      "error\n",
      "error\n",
      "error\n",
      "error\n",
      "error\n",
      "error\n",
      "error\n",
      "error\n",
      "error\n",
      "error\n",
      "error\n",
      "error\n",
      "error\n",
      "error\n",
      "error\n",
      "error\n",
      "error\n",
      "error\n",
      "error\n",
      "error\n",
      "error\n",
      "error\n",
      "error\n",
      "error\n",
      "error\n",
      "error\n",
      "error\n",
      "error\n",
      "error\n",
      "error\n",
      "error\n",
      "error\n",
      "error\n",
      "error\n",
      "error\n",
      "error\n",
      "error\n",
      "error\n",
      "error\n",
      "error\n"
     ]
    },
    {
     "name": "stderr",
     "output_type": "stream",
     "text": [
      "/usr/local/lib/python3.11/site-packages/statsmodels/tsa/statespace/sarimax.py:966: UserWarning: Non-stationary starting autoregressive parameters found. Using zeros as starting parameters.\n",
      "  warn('Non-stationary starting autoregressive parameters'\n",
      "/usr/local/lib/python3.11/site-packages/statsmodels/tsa/statespace/sarimax.py:978: UserWarning: Non-invertible starting MA parameters found. Using zeros as starting parameters.\n",
      "  warn('Non-invertible starting MA parameters found.'\n"
     ]
    },
    {
     "name": "stdout",
     "output_type": "stream",
     "text": [
      "error\n",
      "error\n",
      "error\n",
      "error\n",
      "error\n",
      "error\n",
      "error\n",
      "error\n",
      "error\n",
      "error\n",
      "error\n",
      "error\n",
      "error\n",
      "error\n",
      "error\n",
      "error\n",
      "error\n",
      "error\n",
      "error\n",
      "error\n",
      "error\n",
      "error\n",
      "error\n",
      "error\n",
      "error\n",
      "error\n",
      "error\n"
     ]
    },
    {
     "name": "stderr",
     "output_type": "stream",
     "text": [
      "/usr/local/lib/python3.11/site-packages/statsmodels/tsa/statespace/sarimax.py:966: UserWarning: Non-stationary starting autoregressive parameters found. Using zeros as starting parameters.\n",
      "  warn('Non-stationary starting autoregressive parameters'\n",
      "/usr/local/lib/python3.11/site-packages/statsmodels/tsa/statespace/sarimax.py:978: UserWarning: Non-invertible starting MA parameters found. Using zeros as starting parameters.\n",
      "  warn('Non-invertible starting MA parameters found.'\n",
      "/usr/local/lib/python3.11/site-packages/statsmodels/tsa/statespace/sarimax.py:966: UserWarning: Non-stationary starting autoregressive parameters found. Using zeros as starting parameters.\n",
      "  warn('Non-stationary starting autoregressive parameters'\n",
      "/usr/local/lib/python3.11/site-packages/statsmodels/tsa/statespace/sarimax.py:978: UserWarning: Non-invertible starting MA parameters found. Using zeros as starting parameters.\n",
      "  warn('Non-invertible starting MA parameters found.'\n"
     ]
    }
   ],
   "source": [
    "p = [1,2,3,4,5,6]\n",
    "q = [1,2,3,4]\n",
    "d = 0\n",
    "finalValues = []\n",
    "\n",
    "for cleanCity in cleanFilledCities:\n",
    "  for i in p:\n",
    "    for j in q:\n",
    "      worked = False\n",
    "      originalData = list(cleanCity[1]['total_count'][:train_size])#.tolist()\n",
    "      y_hat = [None for _ in range(train_size)] # should it be a list or pandas array?\n",
    "      for record in range(train_size,train_size+test_size):\n",
    "        try:\n",
    "          model = ARIMA(originalData, order=(i,d,j))\n",
    "          model_fit = model.fit()\n",
    "          prediction = int(model_fit.forecast()[0])\n",
    "          # print(f'Prediction for {cleanCity[0]} at {record} is {prediction}')\n",
    "          y_hat.append(prediction) #shoudl it be int(prediction) or prediction as a float\n",
    "          originalData.append(cleanCity[1]['total_count'][record])\n",
    "          originalData = originalData[1:]\n",
    "          worked = True\n",
    "        except:\n",
    "          print(\"error\")\n",
    "          worked = False\n",
    "          continue\n",
    "      if worked:\n",
    "        actual_values = cleanCity[1]['total_count'][train_size:train_size+test_size]\n",
    "        prediction_values = y_hat[train_size:train_size+test_size]\n",
    "        mse = mean_squared_error(actual_values, prediction_values)\n",
    "        rmse = np.sqrt(mse)\n",
    "        r2 = r2_score(actual_values, prediction_values)\n",
    "        mape = mean_absolute_percentage_error(actual_values, prediction_values)\n",
    "        finalValues.append((cleanCity[0],i,j,mse,rmse,r2,mape))\n",
    "      elif not worked:\n",
    "        finalValues.append((cleanCity[0],i,j,0,0,0,0))\n"
   ]
  },
  {
   "cell_type": "code",
   "execution_count": 1107,
   "metadata": {},
   "outputs": [
    {
     "name": "stdout",
     "output_type": "stream",
     "text": [
      "[[0.4134543  0.4183085  0.41112484 0.41621098]\n",
      " [0.34905702 0.36013562 0.36009715 0.37719135]\n",
      " [0.36133349 0.35862272 0.32314662 0.36669813]\n",
      " [0.38429497 0.         0.34219926 0.34473687]\n",
      " [0.35386342 0.         0.3809386  0.35660979]\n",
      " [0.33155441 0.         0.36122971 0.36109376]]\n",
      "[[0.47288956 0.47412135 0.47654009 0.45684104]\n",
      " [0.3914207  0.38821646 0.39584282 0.43422034]\n",
      " [0.46972115 0.39711275 0.40797186 0.40911027]\n",
      " [0.46626101 0.         0.41091194 0.40460801]\n",
      " [0.42090013 0.40004203 0.41032641 0.        ]\n",
      " [0.40576091 0.40229706 0.40230458 0.41386247]]\n",
      "[[0.35142608 0.33727385 0.33267761 0.3337484 ]\n",
      " [0.27743535 0.27942905 0.2862618  0.31879276]\n",
      " [0.27954615 0.27551351 0.30907669 0.28200678]\n",
      " [0.30652524 0.         0.2789384  0.30343448]\n",
      " [0.28401325 0.         0.31265368 1.18659759]\n",
      " [0.28401384 0.28515462 0.         0.        ]]\n"
     ]
    },
    {
     "data": {
      "text/plain": [
       "<Figure size 640x480 with 0 Axes>"
      ]
     },
     "metadata": {},
     "output_type": "display_data"
    }
   ],
   "source": [
    "from itertools import groupby\n",
    "import seaborn as sb\n",
    "\n",
    "# print(finalValues)\n",
    "dont_touch_this = finalValues\n",
    "dont = finalValues\n",
    "touchthis = finalValues\n",
    "\n",
    "touchThat = pd.DataFrame(touchthis, columns=['city','p','q','mse','rmse','r2','mape'])\n",
    "#group by city\n",
    "touchThat = touchThat.groupby('city')\n",
    "\n",
    "for name, group in touchThat:\n",
    "    mapeList = group['mape'].tolist()\n",
    "    mapPD = pd.DataFrame(mapeList)\n",
    "    MAPE2d = mapPD.values.reshape(6,4)\n",
    "    print(MAPE2d)\n",
    "    sb.heatmap(MAPE2d, annot=True, cmap=\"YlGnBu\", fmt=\".2f\", linewidths=.5,\n",
    "            xticklabels=[1,2,3,4], yticklabels=[1,2,3,4,5,6])\n",
    "    \n",
    "    plt.title(f'MAPE - {name}')\n",
    "    plt.xlabel(\"q\")\n",
    "    plt.ylabel(\"p\")\n",
    "    # plt.show()\n",
    "    plt.savefig(f'MAPE - {name}')\n",
    "    plt.clf()\n",
    "\n",
    "# print(list(group.columns))\n",
    "# Seattle        [Seattle]\n",
    "# Stuttgart    [Stuttgart]\n",
    "# Torino          [Torino]\n",
    "\n"
   ]
  }
 ],
 "metadata": {
  "kernelspec": {
   "display_name": "Python 3",
   "language": "python",
   "name": "python3"
  },
  "language_info": {
   "codemirror_mode": {
    "name": "ipython",
    "version": 3
   },
   "file_extension": ".py",
   "mimetype": "text/x-python",
   "name": "python",
   "nbconvert_exporter": "python",
   "pygments_lexer": "ipython3",
   "version": "3.11.6"
  }
 },
 "nbformat": 4,
 "nbformat_minor": 2
}
